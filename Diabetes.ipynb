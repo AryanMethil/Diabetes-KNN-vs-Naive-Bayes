{
  "nbformat": 4,
  "nbformat_minor": 0,
  "metadata": {
    "colab": {
      "name": "Diabetes.ipynb",
      "provenance": [],
      "collapsed_sections": [],
      "mount_file_id": "1TzBcoBe2LPj7nTDS7qnCXOJCKcOezvlL",
      "authorship_tag": "ABX9TyNdgN4KU75eO65O/IzPH2KF",
      "include_colab_link": true
    },
    "kernelspec": {
      "name": "python3",
      "display_name": "Python 3"
    }
  },
  "cells": [
    {
      "cell_type": "markdown",
      "metadata": {
        "id": "view-in-github",
        "colab_type": "text"
      },
      "source": [
        "<a href=\"https://colab.research.google.com/github/AryanMethil/Diabetes-KNN-vs-Naive-Bayes/blob/main/Diabetes.ipynb\" target=\"_parent\"><img src=\"https://colab.research.google.com/assets/colab-badge.svg\" alt=\"Open In Colab\"/></a>"
      ]
    },
    {
      "cell_type": "code",
      "metadata": {
        "id": "RFSdVykcbSGf",
        "outputId": "3a9cd8d2-e1bf-4e33-fd61-2a4dada349b2",
        "colab": {
          "base_uri": "https://localhost:8080/",
          "height": 204
        }
      },
      "source": [
        "# Read the csv file\n",
        "import pandas as pd\n",
        "df=pd.read_csv('/content/drive/My Drive/diabetes.csv')\n",
        "df.head()"
      ],
      "execution_count": 1,
      "outputs": [
        {
          "output_type": "execute_result",
          "data": {
            "text/html": [
              "<div>\n",
              "<style scoped>\n",
              "    .dataframe tbody tr th:only-of-type {\n",
              "        vertical-align: middle;\n",
              "    }\n",
              "\n",
              "    .dataframe tbody tr th {\n",
              "        vertical-align: top;\n",
              "    }\n",
              "\n",
              "    .dataframe thead th {\n",
              "        text-align: right;\n",
              "    }\n",
              "</style>\n",
              "<table border=\"1\" class=\"dataframe\">\n",
              "  <thead>\n",
              "    <tr style=\"text-align: right;\">\n",
              "      <th></th>\n",
              "      <th>Pregnancies</th>\n",
              "      <th>Glucose</th>\n",
              "      <th>BloodPressure</th>\n",
              "      <th>SkinThickness</th>\n",
              "      <th>Insulin</th>\n",
              "      <th>BMI</th>\n",
              "      <th>DiabetesPedigreeFunction</th>\n",
              "      <th>Age</th>\n",
              "      <th>Outcome</th>\n",
              "    </tr>\n",
              "  </thead>\n",
              "  <tbody>\n",
              "    <tr>\n",
              "      <th>0</th>\n",
              "      <td>6</td>\n",
              "      <td>148</td>\n",
              "      <td>72</td>\n",
              "      <td>35</td>\n",
              "      <td>0</td>\n",
              "      <td>33.6</td>\n",
              "      <td>0.627</td>\n",
              "      <td>50</td>\n",
              "      <td>1</td>\n",
              "    </tr>\n",
              "    <tr>\n",
              "      <th>1</th>\n",
              "      <td>1</td>\n",
              "      <td>85</td>\n",
              "      <td>66</td>\n",
              "      <td>29</td>\n",
              "      <td>0</td>\n",
              "      <td>26.6</td>\n",
              "      <td>0.351</td>\n",
              "      <td>31</td>\n",
              "      <td>0</td>\n",
              "    </tr>\n",
              "    <tr>\n",
              "      <th>2</th>\n",
              "      <td>8</td>\n",
              "      <td>183</td>\n",
              "      <td>64</td>\n",
              "      <td>0</td>\n",
              "      <td>0</td>\n",
              "      <td>23.3</td>\n",
              "      <td>0.672</td>\n",
              "      <td>32</td>\n",
              "      <td>1</td>\n",
              "    </tr>\n",
              "    <tr>\n",
              "      <th>3</th>\n",
              "      <td>1</td>\n",
              "      <td>89</td>\n",
              "      <td>66</td>\n",
              "      <td>23</td>\n",
              "      <td>94</td>\n",
              "      <td>28.1</td>\n",
              "      <td>0.167</td>\n",
              "      <td>21</td>\n",
              "      <td>0</td>\n",
              "    </tr>\n",
              "    <tr>\n",
              "      <th>4</th>\n",
              "      <td>0</td>\n",
              "      <td>137</td>\n",
              "      <td>40</td>\n",
              "      <td>35</td>\n",
              "      <td>168</td>\n",
              "      <td>43.1</td>\n",
              "      <td>2.288</td>\n",
              "      <td>33</td>\n",
              "      <td>1</td>\n",
              "    </tr>\n",
              "  </tbody>\n",
              "</table>\n",
              "</div>"
            ],
            "text/plain": [
              "   Pregnancies  Glucose  BloodPressure  ...  DiabetesPedigreeFunction  Age  Outcome\n",
              "0            6      148             72  ...                     0.627   50        1\n",
              "1            1       85             66  ...                     0.351   31        0\n",
              "2            8      183             64  ...                     0.672   32        1\n",
              "3            1       89             66  ...                     0.167   21        0\n",
              "4            0      137             40  ...                     2.288   33        1\n",
              "\n",
              "[5 rows x 9 columns]"
            ]
          },
          "metadata": {
            "tags": []
          },
          "execution_count": 1
        }
      ]
    },
    {
      "cell_type": "code",
      "metadata": {
        "id": "mxILQEAMb9LP",
        "outputId": "da2c5264-7b5b-4d30-9049-131f306fecd2",
        "colab": {
          "base_uri": "https://localhost:8080/",
          "height": 187
        }
      },
      "source": [
        "# Print the null values of every column\n",
        "df.isna().sum()"
      ],
      "execution_count": 2,
      "outputs": [
        {
          "output_type": "execute_result",
          "data": {
            "text/plain": [
              "Pregnancies                 0\n",
              "Glucose                     0\n",
              "BloodPressure               0\n",
              "SkinThickness               0\n",
              "Insulin                     0\n",
              "BMI                         0\n",
              "DiabetesPedigreeFunction    0\n",
              "Age                         0\n",
              "Outcome                     0\n",
              "dtype: int64"
            ]
          },
          "metadata": {
            "tags": []
          },
          "execution_count": 2
        }
      ]
    },
    {
      "cell_type": "code",
      "metadata": {
        "id": "b8HP66W-cdIa",
        "outputId": "19f63c6e-eb1e-41ed-a6d4-3177c107656e",
        "colab": {
          "base_uri": "https://localhost:8080/",
          "height": 68
        }
      },
      "source": [
        "# Print class count to check for imbalance\n",
        "df['Outcome'].value_counts()"
      ],
      "execution_count": 3,
      "outputs": [
        {
          "output_type": "execute_result",
          "data": {
            "text/plain": [
              "0    500\n",
              "1    268\n",
              "Name: Outcome, dtype: int64"
            ]
          },
          "metadata": {
            "tags": []
          },
          "execution_count": 3
        }
      ]
    },
    {
      "cell_type": "code",
      "metadata": {
        "id": "rijAWNztmGgR",
        "outputId": "091dfc1c-c2e9-42fa-9144-6af328e2f271",
        "colab": {
          "base_uri": "https://localhost:8080/",
          "height": 68
        }
      },
      "source": [
        "from sklearn.utils import resample\n",
        "df_majority = df[df.Outcome==0]\n",
        "df_minority = df[df.Outcome==1]\n",
        " \n",
        "# Upsample minority class\n",
        "df_minority_upsampled = resample(df_minority, \n",
        "                                 replace=True,     # sample with replacement\n",
        "                                 n_samples=500,    # to match majority class\n",
        "                                 random_state=42) # reproducible results\n",
        " \n",
        "# Combine majority class with upsampled minority class\n",
        "df = pd.concat([df_majority, df_minority_upsampled])\n",
        "\n",
        "print(df['Outcome'].value_counts())"
      ],
      "execution_count": 4,
      "outputs": [
        {
          "output_type": "stream",
          "text": [
            "1    500\n",
            "0    500\n",
            "Name: Outcome, dtype: int64\n"
          ],
          "name": "stdout"
        }
      ]
    },
    {
      "cell_type": "code",
      "metadata": {
        "id": "J7_wsfa5eTeI",
        "outputId": "740be1ea-f93a-4069-9a05-f2c716164fa4",
        "colab": {
          "base_uri": "https://localhost:8080/",
          "height": 204
        }
      },
      "source": [
        "# Add a \"kfolds\" column which will indicate the validation set number\n",
        "df['kfolds']=-1\n",
        "\n",
        "# Shuffle all the rows and then reset the index\n",
        "df=df.sample(frac=1,random_state=42).reset_index(drop=True)\n",
        "df.head()"
      ],
      "execution_count": 5,
      "outputs": [
        {
          "output_type": "execute_result",
          "data": {
            "text/html": [
              "<div>\n",
              "<style scoped>\n",
              "    .dataframe tbody tr th:only-of-type {\n",
              "        vertical-align: middle;\n",
              "    }\n",
              "\n",
              "    .dataframe tbody tr th {\n",
              "        vertical-align: top;\n",
              "    }\n",
              "\n",
              "    .dataframe thead th {\n",
              "        text-align: right;\n",
              "    }\n",
              "</style>\n",
              "<table border=\"1\" class=\"dataframe\">\n",
              "  <thead>\n",
              "    <tr style=\"text-align: right;\">\n",
              "      <th></th>\n",
              "      <th>Pregnancies</th>\n",
              "      <th>Glucose</th>\n",
              "      <th>BloodPressure</th>\n",
              "      <th>SkinThickness</th>\n",
              "      <th>Insulin</th>\n",
              "      <th>BMI</th>\n",
              "      <th>DiabetesPedigreeFunction</th>\n",
              "      <th>Age</th>\n",
              "      <th>Outcome</th>\n",
              "      <th>kfolds</th>\n",
              "    </tr>\n",
              "  </thead>\n",
              "  <tbody>\n",
              "    <tr>\n",
              "      <th>0</th>\n",
              "      <td>4</td>\n",
              "      <td>117</td>\n",
              "      <td>62</td>\n",
              "      <td>12</td>\n",
              "      <td>0</td>\n",
              "      <td>29.7</td>\n",
              "      <td>0.380</td>\n",
              "      <td>30</td>\n",
              "      <td>1</td>\n",
              "      <td>-1</td>\n",
              "    </tr>\n",
              "    <tr>\n",
              "      <th>1</th>\n",
              "      <td>7</td>\n",
              "      <td>187</td>\n",
              "      <td>68</td>\n",
              "      <td>39</td>\n",
              "      <td>304</td>\n",
              "      <td>37.7</td>\n",
              "      <td>0.254</td>\n",
              "      <td>41</td>\n",
              "      <td>1</td>\n",
              "      <td>-1</td>\n",
              "    </tr>\n",
              "    <tr>\n",
              "      <th>2</th>\n",
              "      <td>8</td>\n",
              "      <td>105</td>\n",
              "      <td>100</td>\n",
              "      <td>36</td>\n",
              "      <td>0</td>\n",
              "      <td>43.3</td>\n",
              "      <td>0.239</td>\n",
              "      <td>45</td>\n",
              "      <td>1</td>\n",
              "      <td>-1</td>\n",
              "    </tr>\n",
              "    <tr>\n",
              "      <th>3</th>\n",
              "      <td>10</td>\n",
              "      <td>108</td>\n",
              "      <td>66</td>\n",
              "      <td>0</td>\n",
              "      <td>0</td>\n",
              "      <td>32.4</td>\n",
              "      <td>0.272</td>\n",
              "      <td>42</td>\n",
              "      <td>1</td>\n",
              "      <td>-1</td>\n",
              "    </tr>\n",
              "    <tr>\n",
              "      <th>4</th>\n",
              "      <td>0</td>\n",
              "      <td>132</td>\n",
              "      <td>78</td>\n",
              "      <td>0</td>\n",
              "      <td>0</td>\n",
              "      <td>32.4</td>\n",
              "      <td>0.393</td>\n",
              "      <td>21</td>\n",
              "      <td>0</td>\n",
              "      <td>-1</td>\n",
              "    </tr>\n",
              "  </tbody>\n",
              "</table>\n",
              "</div>"
            ],
            "text/plain": [
              "   Pregnancies  Glucose  BloodPressure  ...  Age  Outcome  kfolds\n",
              "0            4      117             62  ...   30        1      -1\n",
              "1            7      187             68  ...   41        1      -1\n",
              "2            8      105            100  ...   45        1      -1\n",
              "3           10      108             66  ...   42        1      -1\n",
              "4            0      132             78  ...   21        0      -1\n",
              "\n",
              "[5 rows x 10 columns]"
            ]
          },
          "metadata": {
            "tags": []
          },
          "execution_count": 5
        }
      ]
    },
    {
      "cell_type": "code",
      "metadata": {
        "id": "-omxWSUteeDN",
        "outputId": "bdbbf904-4453-4e0b-cf36-a5babe033943",
        "colab": {
          "base_uri": "https://localhost:8080/",
          "height": 204
        }
      },
      "source": [
        "from sklearn import model_selection\n",
        "\n",
        "# Create 5 sets of training,validation sets\n",
        "strat_kf=model_selection.StratifiedKFold(n_splits=5)\n",
        "\n",
        "# .split() returns a list of 5 lists (corresponding to the n_splits value)\n",
        "# Each of these 5 lists consists of 2 lists. 1st one contains training set indices and 2nd one contains validation set indices\n",
        "# In a dataset of 10 data points, data 1 and 2 will be the validation in 1st fold, data 3 and 4 in the second fold and so on\n",
        "# 1st iteration of the for loop : trn_ = 3,4,5,6,7,8,9,10 and val_ = 1,2 and fold : 0\n",
        "# Assign 1st and 2nd row's kfolds value as 0 representing that they will be the validation points for 1st (0th) fold\n",
        "\n",
        "for fold,(trn_,val_) in enumerate(strat_kf.split(X=df,y=df['Outcome'])):\n",
        "  df.loc[val_,'kfolds']=fold\n",
        "df.head()"
      ],
      "execution_count": 6,
      "outputs": [
        {
          "output_type": "execute_result",
          "data": {
            "text/html": [
              "<div>\n",
              "<style scoped>\n",
              "    .dataframe tbody tr th:only-of-type {\n",
              "        vertical-align: middle;\n",
              "    }\n",
              "\n",
              "    .dataframe tbody tr th {\n",
              "        vertical-align: top;\n",
              "    }\n",
              "\n",
              "    .dataframe thead th {\n",
              "        text-align: right;\n",
              "    }\n",
              "</style>\n",
              "<table border=\"1\" class=\"dataframe\">\n",
              "  <thead>\n",
              "    <tr style=\"text-align: right;\">\n",
              "      <th></th>\n",
              "      <th>Pregnancies</th>\n",
              "      <th>Glucose</th>\n",
              "      <th>BloodPressure</th>\n",
              "      <th>SkinThickness</th>\n",
              "      <th>Insulin</th>\n",
              "      <th>BMI</th>\n",
              "      <th>DiabetesPedigreeFunction</th>\n",
              "      <th>Age</th>\n",
              "      <th>Outcome</th>\n",
              "      <th>kfolds</th>\n",
              "    </tr>\n",
              "  </thead>\n",
              "  <tbody>\n",
              "    <tr>\n",
              "      <th>0</th>\n",
              "      <td>4</td>\n",
              "      <td>117</td>\n",
              "      <td>62</td>\n",
              "      <td>12</td>\n",
              "      <td>0</td>\n",
              "      <td>29.7</td>\n",
              "      <td>0.380</td>\n",
              "      <td>30</td>\n",
              "      <td>1</td>\n",
              "      <td>0</td>\n",
              "    </tr>\n",
              "    <tr>\n",
              "      <th>1</th>\n",
              "      <td>7</td>\n",
              "      <td>187</td>\n",
              "      <td>68</td>\n",
              "      <td>39</td>\n",
              "      <td>304</td>\n",
              "      <td>37.7</td>\n",
              "      <td>0.254</td>\n",
              "      <td>41</td>\n",
              "      <td>1</td>\n",
              "      <td>0</td>\n",
              "    </tr>\n",
              "    <tr>\n",
              "      <th>2</th>\n",
              "      <td>8</td>\n",
              "      <td>105</td>\n",
              "      <td>100</td>\n",
              "      <td>36</td>\n",
              "      <td>0</td>\n",
              "      <td>43.3</td>\n",
              "      <td>0.239</td>\n",
              "      <td>45</td>\n",
              "      <td>1</td>\n",
              "      <td>0</td>\n",
              "    </tr>\n",
              "    <tr>\n",
              "      <th>3</th>\n",
              "      <td>10</td>\n",
              "      <td>108</td>\n",
              "      <td>66</td>\n",
              "      <td>0</td>\n",
              "      <td>0</td>\n",
              "      <td>32.4</td>\n",
              "      <td>0.272</td>\n",
              "      <td>42</td>\n",
              "      <td>1</td>\n",
              "      <td>0</td>\n",
              "    </tr>\n",
              "    <tr>\n",
              "      <th>4</th>\n",
              "      <td>0</td>\n",
              "      <td>132</td>\n",
              "      <td>78</td>\n",
              "      <td>0</td>\n",
              "      <td>0</td>\n",
              "      <td>32.4</td>\n",
              "      <td>0.393</td>\n",
              "      <td>21</td>\n",
              "      <td>0</td>\n",
              "      <td>0</td>\n",
              "    </tr>\n",
              "  </tbody>\n",
              "</table>\n",
              "</div>"
            ],
            "text/plain": [
              "   Pregnancies  Glucose  BloodPressure  ...  Age  Outcome  kfolds\n",
              "0            4      117             62  ...   30        1       0\n",
              "1            7      187             68  ...   41        1       0\n",
              "2            8      105            100  ...   45        1       0\n",
              "3           10      108             66  ...   42        1       0\n",
              "4            0      132             78  ...   21        0       0\n",
              "\n",
              "[5 rows x 10 columns]"
            ]
          },
          "metadata": {
            "tags": []
          },
          "execution_count": 6
        }
      ]
    },
    {
      "cell_type": "code",
      "metadata": {
        "id": "OCU8LQ6UcrjO",
        "outputId": "4404d4f4-9233-4b56-fcdb-cd4fc38a094e",
        "colab": {
          "base_uri": "https://localhost:8080/",
          "height": 204
        }
      },
      "source": [
        "from sklearn.preprocessing import StandardScaler\n",
        "scaler=StandardScaler()\n",
        "df_2=pd.DataFrame(scaler.fit_transform(df),index=df.index,columns=df.columns)\n",
        "\n",
        "# Target column and kfolds column dont need to be scaled\n",
        "df_2['Outcome']=df['Outcome']\n",
        "df_2['kfolds']=df['kfolds']\n",
        "df_2.head()"
      ],
      "execution_count": 14,
      "outputs": [
        {
          "output_type": "execute_result",
          "data": {
            "text/html": [
              "<div>\n",
              "<style scoped>\n",
              "    .dataframe tbody tr th:only-of-type {\n",
              "        vertical-align: middle;\n",
              "    }\n",
              "\n",
              "    .dataframe tbody tr th {\n",
              "        vertical-align: top;\n",
              "    }\n",
              "\n",
              "    .dataframe thead th {\n",
              "        text-align: right;\n",
              "    }\n",
              "</style>\n",
              "<table border=\"1\" class=\"dataframe\">\n",
              "  <thead>\n",
              "    <tr style=\"text-align: right;\">\n",
              "      <th></th>\n",
              "      <th>Pregnancies</th>\n",
              "      <th>Glucose</th>\n",
              "      <th>BloodPressure</th>\n",
              "      <th>SkinThickness</th>\n",
              "      <th>Insulin</th>\n",
              "      <th>BMI</th>\n",
              "      <th>DiabetesPedigreeFunction</th>\n",
              "      <th>Age</th>\n",
              "      <th>Outcome</th>\n",
              "      <th>kfolds</th>\n",
              "    </tr>\n",
              "  </thead>\n",
              "  <tbody>\n",
              "    <tr>\n",
              "      <th>0</th>\n",
              "      <td>-0.053578</td>\n",
              "      <td>-0.230248</td>\n",
              "      <td>-0.423269</td>\n",
              "      <td>-0.553283</td>\n",
              "      <td>-0.706292</td>\n",
              "      <td>-0.363725</td>\n",
              "      <td>-0.295300</td>\n",
              "      <td>-0.367793</td>\n",
              "      <td>1</td>\n",
              "      <td>0</td>\n",
              "    </tr>\n",
              "    <tr>\n",
              "      <th>1</th>\n",
              "      <td>0.787960</td>\n",
              "      <td>2.011697</td>\n",
              "      <td>-0.111124</td>\n",
              "      <td>1.128429</td>\n",
              "      <td>1.840594</td>\n",
              "      <td>0.691889</td>\n",
              "      <td>-0.680386</td>\n",
              "      <td>0.579018</td>\n",
              "      <td>1</td>\n",
              "      <td>0</td>\n",
              "    </tr>\n",
              "    <tr>\n",
              "      <th>2</th>\n",
              "      <td>1.068473</td>\n",
              "      <td>-0.614581</td>\n",
              "      <td>1.553653</td>\n",
              "      <td>0.941572</td>\n",
              "      <td>-0.706292</td>\n",
              "      <td>1.430819</td>\n",
              "      <td>-0.726229</td>\n",
              "      <td>0.923314</td>\n",
              "      <td>1</td>\n",
              "      <td>0</td>\n",
              "    </tr>\n",
              "    <tr>\n",
              "      <th>3</th>\n",
              "      <td>1.629498</td>\n",
              "      <td>-0.518498</td>\n",
              "      <td>-0.215172</td>\n",
              "      <td>-1.300711</td>\n",
              "      <td>-0.706292</td>\n",
              "      <td>-0.007455</td>\n",
              "      <td>-0.625373</td>\n",
              "      <td>0.665092</td>\n",
              "      <td>1</td>\n",
              "      <td>0</td>\n",
              "    </tr>\n",
              "    <tr>\n",
              "      <th>4</th>\n",
              "      <td>-1.175629</td>\n",
              "      <td>0.250169</td>\n",
              "      <td>0.409119</td>\n",
              "      <td>-1.300711</td>\n",
              "      <td>-0.706292</td>\n",
              "      <td>-0.007455</td>\n",
              "      <td>-0.255569</td>\n",
              "      <td>-1.142458</td>\n",
              "      <td>0</td>\n",
              "      <td>0</td>\n",
              "    </tr>\n",
              "  </tbody>\n",
              "</table>\n",
              "</div>"
            ],
            "text/plain": [
              "   Pregnancies   Glucose  BloodPressure  ...       Age  Outcome  kfolds\n",
              "0    -0.053578 -0.230248      -0.423269  ... -0.367793        1       0\n",
              "1     0.787960  2.011697      -0.111124  ...  0.579018        1       0\n",
              "2     1.068473 -0.614581       1.553653  ...  0.923314        1       0\n",
              "3     1.629498 -0.518498      -0.215172  ...  0.665092        1       0\n",
              "4    -1.175629  0.250169       0.409119  ... -1.142458        0       0\n",
              "\n",
              "[5 rows x 10 columns]"
            ]
          },
          "metadata": {
            "tags": []
          },
          "execution_count": 14
        }
      ]
    },
    {
      "cell_type": "code",
      "metadata": {
        "id": "2DAWBK9DiPsJ"
      },
      "source": [
        "from sklearn import metrics\n",
        "import matplotlib.pyplot as plt"
      ],
      "execution_count": 15,
      "outputs": []
    },
    {
      "cell_type": "code",
      "metadata": {
        "id": "r6POiJTJdXup"
      },
      "source": [
        "def run(fold,df,models):\n",
        "  \n",
        "  # Training and validation sets\n",
        "  df_train=df[df['kfolds']!=fold].reset_index(drop=True)\n",
        "  df_valid=df[df['kfolds']==fold].reset_index(drop=True)\n",
        "\n",
        "\n",
        "  # x and y of training dataset\n",
        "  x_train=df_train.drop('Outcome',axis=1).values\n",
        "  y_train=df_train.Outcome.values\n",
        "\n",
        "  # x and y of validation dataset\n",
        "  x_valid=df_valid.drop('Outcome',axis=1).values\n",
        "  y_valid=df_valid.Outcome.values\n",
        "\n",
        "  # accuracy => will store accuracies of the models  (same for confusion_matrices)\n",
        "  accuracy=[]\n",
        "  confusion_matrices=[]\n",
        "  classification_report=[]\n",
        "\n",
        "  for model_name,model_constructor in list(models.items()):\n",
        "    clf=model_constructor\n",
        "    clf.fit(x_train,y_train)\n",
        "\n",
        "    # preds_train, preds_valid => predictions when training and validation x are fed into the trained model\n",
        "    preds_train=clf.predict(x_train)\n",
        "    preds_valid=clf.predict(x_valid)\n",
        "\n",
        "    acc_train=metrics.accuracy_score(y_train,preds_train)\n",
        "    acc_valid=metrics.accuracy_score(y_valid,preds_valid)\n",
        "    conf_matrix=metrics.confusion_matrix(y_valid,preds_valid)\n",
        "    class_report=metrics.classification_report(y_valid,preds_valid)\n",
        "\n",
        "    accuracy.append(acc_valid)\n",
        "    confusion_matrices.append(conf_matrix)\n",
        "    classification_report.append(class_report)\n",
        "\n",
        "    print(f'Model => {model_name} => Fold = {fold} => Training Accuracy = {acc_train} => Validation Accuracy = {acc_valid}')\n",
        "\n",
        "  print('\\n--------------------------------------------------------------------------------------------\\n')\n",
        "  return accuracy,confusion_matrices,classification_report"
      ],
      "execution_count": 28,
      "outputs": []
    },
    {
      "cell_type": "code",
      "metadata": {
        "id": "UbD6mu1Xhxre"
      },
      "source": [
        "from sklearn.neighbors import KNeighborsClassifier\n",
        "from sklearn.naive_bayes import GaussianNB"
      ],
      "execution_count": 29,
      "outputs": []
    },
    {
      "cell_type": "code",
      "metadata": {
        "id": "qjzRXvUXiwWO"
      },
      "source": [
        "# Find the optimal value of the n_neighbors parameter\n",
        "\n",
        "models={f'KNN_{i}':KNeighborsClassifier(n_neighbors=i) for i in range(2,31)}"
      ],
      "execution_count": 30,
      "outputs": []
    },
    {
      "cell_type": "code",
      "metadata": {
        "id": "YAUfVSKCj0Qi",
        "outputId": "cdba5995-00de-4c69-8ffa-6faa1b52bfa8",
        "colab": {
          "base_uri": "https://localhost:8080/",
          "height": 561
        }
      },
      "source": [
        "# run the model only for fold number 4 ie the 5th fold\n",
        "\n",
        "accuracy,confusion_matrices,classification_report=run(4,df_2,models=models)"
      ],
      "execution_count": 31,
      "outputs": [
        {
          "output_type": "stream",
          "text": [
            "Model => KNN_2 => Fold = 4 => Training Accuracy = 0.91375 => Validation Accuracy = 0.635\n",
            "Model => KNN_3 => Fold = 4 => Training Accuracy = 0.8575 => Validation Accuracy = 0.66\n",
            "Model => KNN_4 => Fold = 4 => Training Accuracy = 0.8575 => Validation Accuracy = 0.68\n",
            "Model => KNN_5 => Fold = 4 => Training Accuracy = 0.84125 => Validation Accuracy = 0.665\n",
            "Model => KNN_6 => Fold = 4 => Training Accuracy = 0.8225 => Validation Accuracy = 0.66\n",
            "Model => KNN_7 => Fold = 4 => Training Accuracy = 0.815 => Validation Accuracy = 0.675\n",
            "Model => KNN_8 => Fold = 4 => Training Accuracy = 0.82 => Validation Accuracy = 0.675\n",
            "Model => KNN_9 => Fold = 4 => Training Accuracy = 0.8125 => Validation Accuracy = 0.7\n",
            "Model => KNN_10 => Fold = 4 => Training Accuracy = 0.80375 => Validation Accuracy = 0.695\n",
            "Model => KNN_11 => Fold = 4 => Training Accuracy = 0.795 => Validation Accuracy = 0.71\n",
            "Model => KNN_12 => Fold = 4 => Training Accuracy = 0.79 => Validation Accuracy = 0.7\n",
            "Model => KNN_13 => Fold = 4 => Training Accuracy = 0.78375 => Validation Accuracy = 0.715\n",
            "Model => KNN_14 => Fold = 4 => Training Accuracy = 0.78 => Validation Accuracy = 0.68\n",
            "Model => KNN_15 => Fold = 4 => Training Accuracy = 0.77625 => Validation Accuracy = 0.68\n",
            "Model => KNN_16 => Fold = 4 => Training Accuracy = 0.79 => Validation Accuracy = 0.71\n",
            "Model => KNN_17 => Fold = 4 => Training Accuracy = 0.78625 => Validation Accuracy = 0.69\n",
            "Model => KNN_18 => Fold = 4 => Training Accuracy = 0.77875 => Validation Accuracy = 0.685\n",
            "Model => KNN_19 => Fold = 4 => Training Accuracy = 0.78625 => Validation Accuracy = 0.7\n",
            "Model => KNN_20 => Fold = 4 => Training Accuracy = 0.785 => Validation Accuracy = 0.72\n",
            "Model => KNN_21 => Fold = 4 => Training Accuracy = 0.77875 => Validation Accuracy = 0.72\n",
            "Model => KNN_22 => Fold = 4 => Training Accuracy = 0.7725 => Validation Accuracy = 0.72\n",
            "Model => KNN_23 => Fold = 4 => Training Accuracy = 0.7725 => Validation Accuracy = 0.715\n",
            "Model => KNN_24 => Fold = 4 => Training Accuracy = 0.77375 => Validation Accuracy = 0.72\n",
            "Model => KNN_25 => Fold = 4 => Training Accuracy = 0.77875 => Validation Accuracy = 0.7\n",
            "Model => KNN_26 => Fold = 4 => Training Accuracy = 0.7775 => Validation Accuracy = 0.705\n",
            "Model => KNN_27 => Fold = 4 => Training Accuracy = 0.77625 => Validation Accuracy = 0.7\n",
            "Model => KNN_28 => Fold = 4 => Training Accuracy = 0.78125 => Validation Accuracy = 0.73\n",
            "Model => KNN_29 => Fold = 4 => Training Accuracy = 0.77625 => Validation Accuracy = 0.72\n",
            "Model => KNN_30 => Fold = 4 => Training Accuracy = 0.775 => Validation Accuracy = 0.725\n",
            "\n",
            "--------------------------------------------------------------------------------------------\n",
            "\n"
          ],
          "name": "stdout"
        }
      ]
    },
    {
      "cell_type": "code",
      "metadata": {
        "id": "3E1KH5v6kKjg",
        "outputId": "50f05a67-bb13-422d-a189-e2f2d94a846a",
        "colab": {
          "base_uri": "https://localhost:8080/",
          "height": 295
        }
      },
      "source": [
        "x=[i for i in range(2,31)]\n",
        "y=accuracy\n",
        "plt.plot(x,y)\n",
        "plt.xlabel('Number of Nearest Neighbors')\n",
        "plt.ylabel('Accuracy Score')\n",
        "plt.title(\"Optimal n_neighbors value\")\n",
        "plt.show()"
      ],
      "execution_count": 32,
      "outputs": [
        {
          "output_type": "display_data",
          "data": {
            "image/png": "[encoded data removed]",
            "text/plain": [
              "<Figure size 432x288 with 1 Axes>"
            ]
          },
          "metadata": {
            "tags": [],
            "needs_background": "light"
          }
        }
      ]
    },
    {
      "cell_type": "code",
      "metadata": {
        "id": "_Wj--fc_gyJs"
      },
      "source": [
        "# Compare between KNN and Naive Bayes\n",
        "\n",
        "models={\n",
        "        'KNN': KNeighborsClassifier(n_neighbors=28),\n",
        "        'Naive Bayes': GaussianNB()\n",
        "        }"
      ],
      "execution_count": 33,
      "outputs": []
    },
    {
      "cell_type": "code",
      "metadata": {
        "id": "HIyTXMrfhn8n",
        "outputId": "73e157eb-47c5-41e5-a8ae-889a3fc770c7",
        "colab": {
          "base_uri": "https://localhost:8080/",
          "height": 442
        }
      },
      "source": [
        "# accuracies => list of 5 lists. Each list will contain 2 values ie KNN accuracy and Naive Bayes accuracy\n",
        "\n",
        "accuracies,confusion_matrices,classification_reports=[],[],[]\n",
        "for f in range(5):\n",
        "  accuracy,confusion_matrix,classification_report=run(f,df_2,models=models)\n",
        "  accuracies.append(accuracy)\n",
        "  confusion_matrices.append(confusion_matrix)\n",
        "  classification_reports.append(classification_report)"
      ],
      "execution_count": 34,
      "outputs": [
        {
          "output_type": "stream",
          "text": [
            "Model => KNN => Fold = 0 => Training Accuracy = 0.75625 => Validation Accuracy = 0.72\n",
            "Model => Naive Bayes => Fold = 0 => Training Accuracy = 0.70125 => Validation Accuracy = 0.75\n",
            "\n",
            "--------------------------------------------------------------------------------------------\n",
            "\n",
            "Model => KNN => Fold = 1 => Training Accuracy = 0.765 => Validation Accuracy = 0.755\n",
            "Model => Naive Bayes => Fold = 1 => Training Accuracy = 0.7075 => Validation Accuracy = 0.745\n",
            "\n",
            "--------------------------------------------------------------------------------------------\n",
            "\n",
            "Model => KNN => Fold = 2 => Training Accuracy = 0.74875 => Validation Accuracy = 0.765\n",
            "Model => Naive Bayes => Fold = 2 => Training Accuracy = 0.71625 => Validation Accuracy = 0.705\n",
            "\n",
            "--------------------------------------------------------------------------------------------\n",
            "\n",
            "Model => KNN => Fold = 3 => Training Accuracy = 0.7575 => Validation Accuracy = 0.69\n",
            "Model => Naive Bayes => Fold = 3 => Training Accuracy = 0.73625 => Validation Accuracy = 0.63\n",
            "\n",
            "--------------------------------------------------------------------------------------------\n",
            "\n",
            "Model => KNN => Fold = 4 => Training Accuracy = 0.78125 => Validation Accuracy = 0.73\n",
            "Model => Naive Bayes => Fold = 4 => Training Accuracy = 0.73125 => Validation Accuracy = 0.725\n",
            "\n",
            "--------------------------------------------------------------------------------------------\n",
            "\n"
          ],
          "name": "stdout"
        }
      ]
    },
    {
      "cell_type": "code",
      "metadata": {
        "id": "gSl2_nTfS0Zk",
        "outputId": "c49065bc-a2a0-4625-ec8d-a5cc237f5f26",
        "colab": {
          "base_uri": "https://localhost:8080/",
          "height": 34
        }
      },
      "source": [
        "print(accuracies)"
      ],
      "execution_count": 35,
      "outputs": [
        {
          "output_type": "stream",
          "text": [
            "[[0.72, 0.75], [0.755, 0.745], [0.765, 0.705], [0.69, 0.63], [0.73, 0.725]]\n"
          ],
          "name": "stdout"
        }
      ]
    },
    {
      "cell_type": "code",
      "metadata": {
        "id": "B8GSL6zYpskS"
      },
      "source": [
        "x_axis_labels=['Predicted Normal','Predicted Diabetic']\n",
        "y_axis_labels=['True Normal','True Diabetic']"
      ],
      "execution_count": 36,
      "outputs": []
    },
    {
      "cell_type": "code",
      "metadata": {
        "id": "hEbX7d97iJcF",
        "outputId": "3fbe012f-28e5-4122-9e15-24f6c9bbf5f5",
        "colab": {
          "base_uri": "https://localhost:8080/",
          "height": 282
        }
      },
      "source": [
        "import seaborn as sns\n",
        "\n",
        "# Heatmap of confusion matrix of 5th fold of KNN\n",
        "\n",
        "sns.heatmap(confusion_matrices[4][0],xticklabels=x_axis_labels,yticklabels=y_axis_labels,annot=True)\n"
      ],
      "execution_count": 37,
      "outputs": [
        {
          "output_type": "execute_result",
          "data": {
            "text/plain": [
              "<matplotlib.axes._subplots.AxesSubplot at 0x7f48a2f33080>"
            ]
          },
          "metadata": {
            "tags": []
          },
          "execution_count": 37
        },
        {
          "output_type": "display_data",
          "data": {
            "image/png": "[encoded data removed]",
            "text/plain": [
              "<Figure size 432x288 with 2 Axes>"
            ]
          },
          "metadata": {
            "tags": [],
            "needs_background": "light"
          }
        }
      ]
    },
    {
      "cell_type": "code",
      "metadata": {
        "id": "vCfY6PdTpHqD",
        "outputId": "e3d1bee7-1ef3-417d-96e4-6601d3bba67a",
        "colab": {
          "base_uri": "https://localhost:8080/",
          "height": 282
        }
      },
      "source": [
        "# Heatmap of confusion matrix of 5th fold of Naive Bayes\n",
        "\n",
        "sns.heatmap(confusion_matrices[4][1],xticklabels=x_axis_labels,yticklabels=y_axis_labels,annot=True)\n"
      ],
      "execution_count": 38,
      "outputs": [
        {
          "output_type": "execute_result",
          "data": {
            "text/plain": [
              "<matplotlib.axes._subplots.AxesSubplot at 0x7f48a2e83828>"
            ]
          },
          "metadata": {
            "tags": []
          },
          "execution_count": 38
        },
        {
          "output_type": "display_data",
          "data": {
            "image/png": "[encoded data removed]",
            "text/plain": [
              "<Figure size 432x288 with 2 Axes>"
            ]
          },
          "metadata": {
            "tags": [],
            "needs_background": "light"
          }
        }
      ]
    },
    {
      "cell_type": "code",
      "metadata": {
        "id": "ytvH_HqxpPth",
        "outputId": "8deba4ad-7316-49f5-ba4c-86e780244532",
        "colab": {
          "base_uri": "https://localhost:8080/",
          "height": 187
        }
      },
      "source": [
        "# Classification report of 5th fold of KNN\n",
        "\n",
        "print(\"KNN\")\n",
        "print(classification_reports[4][0])"
      ],
      "execution_count": 39,
      "outputs": [
        {
          "output_type": "stream",
          "text": [
            "KNN\n",
            "              precision    recall  f1-score   support\n",
            "\n",
            "           0       0.71      0.77      0.74       100\n",
            "           1       0.75      0.69      0.72       100\n",
            "\n",
            "    accuracy                           0.73       200\n",
            "   macro avg       0.73      0.73      0.73       200\n",
            "weighted avg       0.73      0.73      0.73       200\n",
            "\n"
          ],
          "name": "stdout"
        }
      ]
    },
    {
      "cell_type": "code",
      "metadata": {
        "id": "65A9lhqa0Phh",
        "outputId": "437c6ffe-bdde-4a8e-befc-b90d5b528b35",
        "colab": {
          "base_uri": "https://localhost:8080/",
          "height": 187
        }
      },
      "source": [
        "# Classification report of 5th fold of Naive Bayes\n",
        "\n",
        "print(\"Naive Bayes\")\n",
        "print(classification_reports[4][1])"
      ],
      "execution_count": 41,
      "outputs": [
        {
          "output_type": "stream",
          "text": [
            "Naive Bayes\n",
            "              precision    recall  f1-score   support\n",
            "\n",
            "           0       0.71      0.76      0.73       100\n",
            "           1       0.74      0.69      0.72       100\n",
            "\n",
            "    accuracy                           0.73       200\n",
            "   macro avg       0.73      0.72      0.72       200\n",
            "weighted avg       0.73      0.72      0.72       200\n",
            "\n"
          ],
          "name": "stdout"
        }
      ]
    },
    {
      "cell_type": "code",
      "metadata": {
        "id": "M9sNijiy0XSE"
      },
      "source": [
        ""
      ],
      "execution_count": null,
      "outputs": []
    }
  ]
}