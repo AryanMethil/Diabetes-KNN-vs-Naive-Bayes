{
  "nbformat": 4,
  "nbformat_minor": 0,
  "metadata": {
    "colab": {
      "name": "Diabetes.ipynb",
      "provenance": [],
      "collapsed_sections": [],
      "include_colab_link": true
    },
    "kernelspec": {
      "name": "python3",
      "display_name": "Python 3"
    }
  },
  "cells": [
    {
      "cell_type": "markdown",
      "metadata": {
        "id": "view-in-github",
        "colab_type": "text"
      },
      "source": [
        "<a href=\"https://colab.research.google.com/github/AryanMethil/Diabetes-KNN-vs-Naive-Bayes/blob/main/Diabetes.ipynb\" target=\"_parent\"><img src=\"https://colab.research.google.com/assets/colab-badge.svg\" alt=\"Open In Colab\"/></a>"
      ]
    },
    {
      "cell_type": "code",
      "metadata": {
        "id": "use7OY5Bd85n",
        "outputId": "c00eebfd-677e-45ea-ffc9-0a1c8cdb70a2",
        "colab": {
          "base_uri": "https://localhost:8080/"
        }
      },
      "source": [
        "from google.colab import drive\n",
        "drive.mount('/content/drive')"
      ],
      "execution_count": 1,
      "outputs": [
        {
          "output_type": "stream",
          "text": [
            "Mounted at /content/drive\n"
          ],
          "name": "stdout"
        }
      ]
    },
    {
      "cell_type": "markdown",
      "metadata": {
        "id": "8A-fKaBpYYnp"
      },
      "source": [
        "# Dataset Exploration\n",
        "\n",
        "\n",
        "\n",
        "1.   Head of dataset\n",
        "2.   Check for null values (absent)\n",
        "3.   Check for class imbalance (present - remove it by upsampling)\n",
        "\n",
        "\n"
      ]
    },
    {
      "cell_type": "code",
      "metadata": {
        "id": "RFSdVykcbSGf",
        "outputId": "0ffe7051-298c-405c-9c07-9a9d54447a36",
        "colab": {
          "base_uri": "https://localhost:8080/",
          "height": 204
        }
      },
      "source": [
        "# Read the csv file\n",
        "import pandas as pd\n",
        "df=pd.read_csv('/content/drive/My Drive/Diabetes/diabetes.csv')\n",
        "df.head()"
      ],
      "execution_count": 2,
      "outputs": [
        {
          "output_type": "execute_result",
          "data": {
            "text/html": [
              "<div>\n",
              "<style scoped>\n",
              "    .dataframe tbody tr th:only-of-type {\n",
              "        vertical-align: middle;\n",
              "    }\n",
              "\n",
              "    .dataframe tbody tr th {\n",
              "        vertical-align: top;\n",
              "    }\n",
              "\n",
              "    .dataframe thead th {\n",
              "        text-align: right;\n",
              "    }\n",
              "</style>\n",
              "<table border=\"1\" class=\"dataframe\">\n",
              "  <thead>\n",
              "    <tr style=\"text-align: right;\">\n",
              "      <th></th>\n",
              "      <th>Pregnancies</th>\n",
              "      <th>Glucose</th>\n",
              "      <th>BloodPressure</th>\n",
              "      <th>SkinThickness</th>\n",
              "      <th>Insulin</th>\n",
              "      <th>BMI</th>\n",
              "      <th>DiabetesPedigreeFunction</th>\n",
              "      <th>Age</th>\n",
              "      <th>Outcome</th>\n",
              "    </tr>\n",
              "  </thead>\n",
              "  <tbody>\n",
              "    <tr>\n",
              "      <th>0</th>\n",
              "      <td>6</td>\n",
              "      <td>148</td>\n",
              "      <td>72</td>\n",
              "      <td>35</td>\n",
              "      <td>0</td>\n",
              "      <td>33.6</td>\n",
              "      <td>0.627</td>\n",
              "      <td>50</td>\n",
              "      <td>1</td>\n",
              "    </tr>\n",
              "    <tr>\n",
              "      <th>1</th>\n",
              "      <td>1</td>\n",
              "      <td>85</td>\n",
              "      <td>66</td>\n",
              "      <td>29</td>\n",
              "      <td>0</td>\n",
              "      <td>26.6</td>\n",
              "      <td>0.351</td>\n",
              "      <td>31</td>\n",
              "      <td>0</td>\n",
              "    </tr>\n",
              "    <tr>\n",
              "      <th>2</th>\n",
              "      <td>8</td>\n",
              "      <td>183</td>\n",
              "      <td>64</td>\n",
              "      <td>0</td>\n",
              "      <td>0</td>\n",
              "      <td>23.3</td>\n",
              "      <td>0.672</td>\n",
              "      <td>32</td>\n",
              "      <td>1</td>\n",
              "    </tr>\n",
              "    <tr>\n",
              "      <th>3</th>\n",
              "      <td>1</td>\n",
              "      <td>89</td>\n",
              "      <td>66</td>\n",
              "      <td>23</td>\n",
              "      <td>94</td>\n",
              "      <td>28.1</td>\n",
              "      <td>0.167</td>\n",
              "      <td>21</td>\n",
              "      <td>0</td>\n",
              "    </tr>\n",
              "    <tr>\n",
              "      <th>4</th>\n",
              "      <td>0</td>\n",
              "      <td>137</td>\n",
              "      <td>40</td>\n",
              "      <td>35</td>\n",
              "      <td>168</td>\n",
              "      <td>43.1</td>\n",
              "      <td>2.288</td>\n",
              "      <td>33</td>\n",
              "      <td>1</td>\n",
              "    </tr>\n",
              "  </tbody>\n",
              "</table>\n",
              "</div>"
            ],
            "text/plain": [
              "   Pregnancies  Glucose  BloodPressure  ...  DiabetesPedigreeFunction  Age  Outcome\n",
              "0            6      148             72  ...                     0.627   50        1\n",
              "1            1       85             66  ...                     0.351   31        0\n",
              "2            8      183             64  ...                     0.672   32        1\n",
              "3            1       89             66  ...                     0.167   21        0\n",
              "4            0      137             40  ...                     2.288   33        1\n",
              "\n",
              "[5 rows x 9 columns]"
            ]
          },
          "metadata": {
            "tags": []
          },
          "execution_count": 2
        }
      ]
    },
    {
      "cell_type": "code",
      "metadata": {
        "id": "mxILQEAMb9LP",
        "outputId": "4d5c422f-7bbe-4ffc-c8c9-e8a01583c8f8",
        "colab": {
          "base_uri": "https://localhost:8080/"
        }
      },
      "source": [
        "# Print the null values of every column\n",
        "df.isna().sum()\n"
      ],
      "execution_count": 3,
      "outputs": [
        {
          "output_type": "execute_result",
          "data": {
            "text/plain": [
              "Pregnancies                 0\n",
              "Glucose                     0\n",
              "BloodPressure               0\n",
              "SkinThickness               0\n",
              "Insulin                     0\n",
              "BMI                         0\n",
              "DiabetesPedigreeFunction    0\n",
              "Age                         0\n",
              "Outcome                     0\n",
              "dtype: int64"
            ]
          },
          "metadata": {
            "tags": []
          },
          "execution_count": 3
        }
      ]
    },
    {
      "cell_type": "code",
      "metadata": {
        "id": "b8HP66W-cdIa",
        "outputId": "db10010e-52cc-41b6-e77c-bd77f655bfbf",
        "colab": {
          "base_uri": "https://localhost:8080/"
        }
      },
      "source": [
        "# Print class count to check for imbalance\n",
        "df['Outcome'].value_counts()"
      ],
      "execution_count": 4,
      "outputs": [
        {
          "output_type": "execute_result",
          "data": {
            "text/plain": [
              "0    500\n",
              "1    268\n",
              "Name: Outcome, dtype: int64"
            ]
          },
          "metadata": {
            "tags": []
          },
          "execution_count": 4
        }
      ]
    },
    {
      "cell_type": "code",
      "metadata": {
        "id": "rijAWNztmGgR",
        "outputId": "2fc22e6c-d1a3-4e32-ffba-fcfed8c72823",
        "colab": {
          "base_uri": "https://localhost:8080/"
        }
      },
      "source": [
        "from sklearn.utils import resample\n",
        "df_majority = df[df.Outcome==0]\n",
        "df_minority = df[df.Outcome==1]\n",
        " \n",
        "# Upsample minority class\n",
        "df_minority_upsampled = resample(df_minority, \n",
        "                                 replace=True,     # sample with replacement\n",
        "                                 n_samples=500,    # to match majority class\n",
        "                                 random_state=42) # reproducible results\n",
        " \n",
        "# Combine majority class with upsampled minority class\n",
        "df = pd.concat([df_majority, df_minority_upsampled])\n",
        "\n",
        "print(df['Outcome'].value_counts())"
      ],
      "execution_count": 5,
      "outputs": [
        {
          "output_type": "stream",
          "text": [
            "1    500\n",
            "0    500\n",
            "Name: Outcome, dtype: int64\n"
          ],
          "name": "stdout"
        }
      ]
    },
    {
      "cell_type": "markdown",
      "metadata": {
        "id": "3HFmAqdsZ4Vm"
      },
      "source": [
        "# Stratified K Folds Cross Validation"
      ]
    },
    {
      "cell_type": "code",
      "metadata": {
        "id": "J7_wsfa5eTeI",
        "outputId": "3d69df62-f217-47fc-e3ef-569c5f81ac34",
        "colab": {
          "base_uri": "https://localhost:8080/",
          "height": 204
        }
      },
      "source": [
        "# Add a \"kfolds\" column which will indicate the validation set number\n",
        "df['kfolds']=-1\n",
        "\n",
        "# Shuffle all the rows and then reset the index\n",
        "df=df.sample(frac=1,random_state=42).reset_index(drop=True)\n",
        "df.head()"
      ],
      "execution_count": 6,
      "outputs": [
        {
          "output_type": "execute_result",
          "data": {
            "text/html": [
              "<div>\n",
              "<style scoped>\n",
              "    .dataframe tbody tr th:only-of-type {\n",
              "        vertical-align: middle;\n",
              "    }\n",
              "\n",
              "    .dataframe tbody tr th {\n",
              "        vertical-align: top;\n",
              "    }\n",
              "\n",
              "    .dataframe thead th {\n",
              "        text-align: right;\n",
              "    }\n",
              "</style>\n",
              "<table border=\"1\" class=\"dataframe\">\n",
              "  <thead>\n",
              "    <tr style=\"text-align: right;\">\n",
              "      <th></th>\n",
              "      <th>Pregnancies</th>\n",
              "      <th>Glucose</th>\n",
              "      <th>BloodPressure</th>\n",
              "      <th>SkinThickness</th>\n",
              "      <th>Insulin</th>\n",
              "      <th>BMI</th>\n",
              "      <th>DiabetesPedigreeFunction</th>\n",
              "      <th>Age</th>\n",
              "      <th>Outcome</th>\n",
              "      <th>kfolds</th>\n",
              "    </tr>\n",
              "  </thead>\n",
              "  <tbody>\n",
              "    <tr>\n",
              "      <th>0</th>\n",
              "      <td>4</td>\n",
              "      <td>117</td>\n",
              "      <td>62</td>\n",
              "      <td>12</td>\n",
              "      <td>0</td>\n",
              "      <td>29.7</td>\n",
              "      <td>0.380</td>\n",
              "      <td>30</td>\n",
              "      <td>1</td>\n",
              "      <td>-1</td>\n",
              "    </tr>\n",
              "    <tr>\n",
              "      <th>1</th>\n",
              "      <td>7</td>\n",
              "      <td>187</td>\n",
              "      <td>68</td>\n",
              "      <td>39</td>\n",
              "      <td>304</td>\n",
              "      <td>37.7</td>\n",
              "      <td>0.254</td>\n",
              "      <td>41</td>\n",
              "      <td>1</td>\n",
              "      <td>-1</td>\n",
              "    </tr>\n",
              "    <tr>\n",
              "      <th>2</th>\n",
              "      <td>8</td>\n",
              "      <td>105</td>\n",
              "      <td>100</td>\n",
              "      <td>36</td>\n",
              "      <td>0</td>\n",
              "      <td>43.3</td>\n",
              "      <td>0.239</td>\n",
              "      <td>45</td>\n",
              "      <td>1</td>\n",
              "      <td>-1</td>\n",
              "    </tr>\n",
              "    <tr>\n",
              "      <th>3</th>\n",
              "      <td>10</td>\n",
              "      <td>108</td>\n",
              "      <td>66</td>\n",
              "      <td>0</td>\n",
              "      <td>0</td>\n",
              "      <td>32.4</td>\n",
              "      <td>0.272</td>\n",
              "      <td>42</td>\n",
              "      <td>1</td>\n",
              "      <td>-1</td>\n",
              "    </tr>\n",
              "    <tr>\n",
              "      <th>4</th>\n",
              "      <td>0</td>\n",
              "      <td>132</td>\n",
              "      <td>78</td>\n",
              "      <td>0</td>\n",
              "      <td>0</td>\n",
              "      <td>32.4</td>\n",
              "      <td>0.393</td>\n",
              "      <td>21</td>\n",
              "      <td>0</td>\n",
              "      <td>-1</td>\n",
              "    </tr>\n",
              "  </tbody>\n",
              "</table>\n",
              "</div>"
            ],
            "text/plain": [
              "   Pregnancies  Glucose  BloodPressure  ...  Age  Outcome  kfolds\n",
              "0            4      117             62  ...   30        1      -1\n",
              "1            7      187             68  ...   41        1      -1\n",
              "2            8      105            100  ...   45        1      -1\n",
              "3           10      108             66  ...   42        1      -1\n",
              "4            0      132             78  ...   21        0      -1\n",
              "\n",
              "[5 rows x 10 columns]"
            ]
          },
          "metadata": {
            "tags": []
          },
          "execution_count": 6
        }
      ]
    },
    {
      "cell_type": "code",
      "metadata": {
        "id": "-omxWSUteeDN",
        "outputId": "5ade81e5-dbe2-4d97-bb00-4c2875cc8520",
        "colab": {
          "base_uri": "https://localhost:8080/",
          "height": 204
        }
      },
      "source": [
        "from sklearn import model_selection\n",
        "\n",
        "# Create 5 sets of training,validation sets\n",
        "strat_kf=model_selection.StratifiedKFold(n_splits=5)\n",
        "\n",
        "# .split() returns a list of 5 lists (corresponding to the n_splits value)\n",
        "# Each of these 5 lists consists of 2 lists. 1st one contains training set indices and 2nd one contains validation set indices\n",
        "# In a dataset of 10 data points, data 1 and 2 will be the validation in 1st fold, data 3 and 4 in the second fold and so on\n",
        "# 1st iteration of the for loop : trn_ = 3,4,5,6,7,8,9,10 and val_ = 1,2 and fold : 0\n",
        "# Assign 1st and 2nd row's kfolds value as 0 representing that they will be the validation points for 1st (0th) fold\n",
        "\n",
        "for fold,(trn_,val_) in enumerate(strat_kf.split(X=df,y=df['Outcome'])):\n",
        "  df.loc[val_,'kfolds']=fold\n",
        "df.head()"
      ],
      "execution_count": 7,
      "outputs": [
        {
          "output_type": "execute_result",
          "data": {
            "text/html": [
              "<div>\n",
              "<style scoped>\n",
              "    .dataframe tbody tr th:only-of-type {\n",
              "        vertical-align: middle;\n",
              "    }\n",
              "\n",
              "    .dataframe tbody tr th {\n",
              "        vertical-align: top;\n",
              "    }\n",
              "\n",
              "    .dataframe thead th {\n",
              "        text-align: right;\n",
              "    }\n",
              "</style>\n",
              "<table border=\"1\" class=\"dataframe\">\n",
              "  <thead>\n",
              "    <tr style=\"text-align: right;\">\n",
              "      <th></th>\n",
              "      <th>Pregnancies</th>\n",
              "      <th>Glucose</th>\n",
              "      <th>BloodPressure</th>\n",
              "      <th>SkinThickness</th>\n",
              "      <th>Insulin</th>\n",
              "      <th>BMI</th>\n",
              "      <th>DiabetesPedigreeFunction</th>\n",
              "      <th>Age</th>\n",
              "      <th>Outcome</th>\n",
              "      <th>kfolds</th>\n",
              "    </tr>\n",
              "  </thead>\n",
              "  <tbody>\n",
              "    <tr>\n",
              "      <th>0</th>\n",
              "      <td>4</td>\n",
              "      <td>117</td>\n",
              "      <td>62</td>\n",
              "      <td>12</td>\n",
              "      <td>0</td>\n",
              "      <td>29.7</td>\n",
              "      <td>0.380</td>\n",
              "      <td>30</td>\n",
              "      <td>1</td>\n",
              "      <td>0</td>\n",
              "    </tr>\n",
              "    <tr>\n",
              "      <th>1</th>\n",
              "      <td>7</td>\n",
              "      <td>187</td>\n",
              "      <td>68</td>\n",
              "      <td>39</td>\n",
              "      <td>304</td>\n",
              "      <td>37.7</td>\n",
              "      <td>0.254</td>\n",
              "      <td>41</td>\n",
              "      <td>1</td>\n",
              "      <td>0</td>\n",
              "    </tr>\n",
              "    <tr>\n",
              "      <th>2</th>\n",
              "      <td>8</td>\n",
              "      <td>105</td>\n",
              "      <td>100</td>\n",
              "      <td>36</td>\n",
              "      <td>0</td>\n",
              "      <td>43.3</td>\n",
              "      <td>0.239</td>\n",
              "      <td>45</td>\n",
              "      <td>1</td>\n",
              "      <td>0</td>\n",
              "    </tr>\n",
              "    <tr>\n",
              "      <th>3</th>\n",
              "      <td>10</td>\n",
              "      <td>108</td>\n",
              "      <td>66</td>\n",
              "      <td>0</td>\n",
              "      <td>0</td>\n",
              "      <td>32.4</td>\n",
              "      <td>0.272</td>\n",
              "      <td>42</td>\n",
              "      <td>1</td>\n",
              "      <td>0</td>\n",
              "    </tr>\n",
              "    <tr>\n",
              "      <th>4</th>\n",
              "      <td>0</td>\n",
              "      <td>132</td>\n",
              "      <td>78</td>\n",
              "      <td>0</td>\n",
              "      <td>0</td>\n",
              "      <td>32.4</td>\n",
              "      <td>0.393</td>\n",
              "      <td>21</td>\n",
              "      <td>0</td>\n",
              "      <td>0</td>\n",
              "    </tr>\n",
              "  </tbody>\n",
              "</table>\n",
              "</div>"
            ],
            "text/plain": [
              "   Pregnancies  Glucose  BloodPressure  ...  Age  Outcome  kfolds\n",
              "0            4      117             62  ...   30        1       0\n",
              "1            7      187             68  ...   41        1       0\n",
              "2            8      105            100  ...   45        1       0\n",
              "3           10      108             66  ...   42        1       0\n",
              "4            0      132             78  ...   21        0       0\n",
              "\n",
              "[5 rows x 10 columns]"
            ]
          },
          "metadata": {
            "tags": []
          },
          "execution_count": 7
        }
      ]
    },
    {
      "cell_type": "markdown",
      "metadata": {
        "id": "zrWHHiQZaZZ6"
      },
      "source": [
        "# Scale the features using StandardScaler"
      ]
    },
    {
      "cell_type": "code",
      "metadata": {
        "id": "OCU8LQ6UcrjO",
        "outputId": "6a958af6-462e-46a2-8c18-545bd9eb5d9e",
        "colab": {
          "base_uri": "https://localhost:8080/",
          "height": 204
        }
      },
      "source": [
        "from sklearn.preprocessing import StandardScaler\n",
        "scaler=StandardScaler()\n",
        "df_2=pd.DataFrame(scaler.fit_transform(df),index=df.index,columns=df.columns)\n",
        "\n",
        "# Target column and kfolds column dont need to be scaled\n",
        "df_2['Outcome']=df['Outcome']\n",
        "df_2['kfolds']=df['kfolds']\n",
        "df_2.head()"
      ],
      "execution_count": 8,
      "outputs": [
        {
          "output_type": "execute_result",
          "data": {
            "text/html": [
              "<div>\n",
              "<style scoped>\n",
              "    .dataframe tbody tr th:only-of-type {\n",
              "        vertical-align: middle;\n",
              "    }\n",
              "\n",
              "    .dataframe tbody tr th {\n",
              "        vertical-align: top;\n",
              "    }\n",
              "\n",
              "    .dataframe thead th {\n",
              "        text-align: right;\n",
              "    }\n",
              "</style>\n",
              "<table border=\"1\" class=\"dataframe\">\n",
              "  <thead>\n",
              "    <tr style=\"text-align: right;\">\n",
              "      <th></th>\n",
              "      <th>Pregnancies</th>\n",
              "      <th>Glucose</th>\n",
              "      <th>BloodPressure</th>\n",
              "      <th>SkinThickness</th>\n",
              "      <th>Insulin</th>\n",
              "      <th>BMI</th>\n",
              "      <th>DiabetesPedigreeFunction</th>\n",
              "      <th>Age</th>\n",
              "      <th>Outcome</th>\n",
              "      <th>kfolds</th>\n",
              "    </tr>\n",
              "  </thead>\n",
              "  <tbody>\n",
              "    <tr>\n",
              "      <th>0</th>\n",
              "      <td>-0.053578</td>\n",
              "      <td>-0.230248</td>\n",
              "      <td>-0.423269</td>\n",
              "      <td>-0.553283</td>\n",
              "      <td>-0.706292</td>\n",
              "      <td>-0.363725</td>\n",
              "      <td>-0.295300</td>\n",
              "      <td>-0.367793</td>\n",
              "      <td>1</td>\n",
              "      <td>0</td>\n",
              "    </tr>\n",
              "    <tr>\n",
              "      <th>1</th>\n",
              "      <td>0.787960</td>\n",
              "      <td>2.011697</td>\n",
              "      <td>-0.111124</td>\n",
              "      <td>1.128429</td>\n",
              "      <td>1.840594</td>\n",
              "      <td>0.691889</td>\n",
              "      <td>-0.680386</td>\n",
              "      <td>0.579018</td>\n",
              "      <td>1</td>\n",
              "      <td>0</td>\n",
              "    </tr>\n",
              "    <tr>\n",
              "      <th>2</th>\n",
              "      <td>1.068473</td>\n",
              "      <td>-0.614581</td>\n",
              "      <td>1.553653</td>\n",
              "      <td>0.941572</td>\n",
              "      <td>-0.706292</td>\n",
              "      <td>1.430819</td>\n",
              "      <td>-0.726229</td>\n",
              "      <td>0.923314</td>\n",
              "      <td>1</td>\n",
              "      <td>0</td>\n",
              "    </tr>\n",
              "    <tr>\n",
              "      <th>3</th>\n",
              "      <td>1.629498</td>\n",
              "      <td>-0.518498</td>\n",
              "      <td>-0.215172</td>\n",
              "      <td>-1.300711</td>\n",
              "      <td>-0.706292</td>\n",
              "      <td>-0.007455</td>\n",
              "      <td>-0.625373</td>\n",
              "      <td>0.665092</td>\n",
              "      <td>1</td>\n",
              "      <td>0</td>\n",
              "    </tr>\n",
              "    <tr>\n",
              "      <th>4</th>\n",
              "      <td>-1.175629</td>\n",
              "      <td>0.250169</td>\n",
              "      <td>0.409119</td>\n",
              "      <td>-1.300711</td>\n",
              "      <td>-0.706292</td>\n",
              "      <td>-0.007455</td>\n",
              "      <td>-0.255569</td>\n",
              "      <td>-1.142458</td>\n",
              "      <td>0</td>\n",
              "      <td>0</td>\n",
              "    </tr>\n",
              "  </tbody>\n",
              "</table>\n",
              "</div>"
            ],
            "text/plain": [
              "   Pregnancies   Glucose  BloodPressure  ...       Age  Outcome  kfolds\n",
              "0    -0.053578 -0.230248      -0.423269  ... -0.367793        1       0\n",
              "1     0.787960  2.011697      -0.111124  ...  0.579018        1       0\n",
              "2     1.068473 -0.614581       1.553653  ...  0.923314        1       0\n",
              "3     1.629498 -0.518498      -0.215172  ...  0.665092        1       0\n",
              "4    -1.175629  0.250169       0.409119  ... -1.142458        0       0\n",
              "\n",
              "[5 rows x 10 columns]"
            ]
          },
          "metadata": {
            "tags": []
          },
          "execution_count": 8
        }
      ]
    },
    {
      "cell_type": "markdown",
      "metadata": {
        "id": "ovlbYO8_Wo1I"
      },
      "source": [
        "# Feature Selection\n",
        "\n",
        "1.   KNN\n",
        "2.   Naive Bayes"
      ]
    },
    {
      "cell_type": "code",
      "metadata": {
        "id": "2DAWBK9DiPsJ"
      },
      "source": [
        "from sklearn import metrics\n",
        "import matplotlib.pyplot as plt"
      ],
      "execution_count": 9,
      "outputs": []
    },
    {
      "cell_type": "code",
      "metadata": {
        "id": "r6POiJTJdXup"
      },
      "source": [
        "def run(fold,df,models,print_details=False):\n",
        "  \n",
        "  # Training and validation sets\n",
        "  df_train=df[df['kfolds']!=fold].reset_index(drop=True)\n",
        "  df_valid=df[df['kfolds']==fold].reset_index(drop=True)\n",
        "\n",
        "\n",
        "  # x and y of training dataset\n",
        "  x_train=df_train.drop('Outcome',axis=1).values\n",
        "  y_train=df_train.Outcome.values\n",
        "\n",
        "  # x and y of validation dataset\n",
        "  x_valid=df_valid.drop('Outcome',axis=1).values\n",
        "  y_valid=df_valid.Outcome.values\n",
        "\n",
        "  # accuracy => will store accuracies of the models  (same for confusion_matrices)\n",
        "  accuracy=[]\n",
        "  confusion_matrices=[]\n",
        "  classification_report=[]\n",
        "\n",
        "  for model_name,model_constructor in list(models.items()):\n",
        "    clf=model_constructor\n",
        "    clf.fit(x_train,y_train)\n",
        "\n",
        "    # preds_train, preds_valid => predictions when training and validation x are fed into the trained model\n",
        "    preds_train=clf.predict(x_train)\n",
        "    preds_valid=clf.predict(x_valid)\n",
        "\n",
        "    acc_train=metrics.accuracy_score(y_train,preds_train)\n",
        "    acc_valid=metrics.accuracy_score(y_valid,preds_valid)\n",
        "    conf_matrix=metrics.confusion_matrix(y_valid,preds_valid)\n",
        "    class_report=metrics.classification_report(y_valid,preds_valid)\n",
        "\n",
        "    accuracy.append(acc_valid)\n",
        "    confusion_matrices.append(conf_matrix)\n",
        "    classification_report.append(class_report)\n",
        "\n",
        "    if(print_details==True):\n",
        "      print(f'Model => {model_name} => Fold = {fold} => Training Accuracy = {acc_train} => Validation Accuracy = {acc_valid}')\n",
        "\n",
        "  if(print_details==True):\n",
        "    print('\\n--------------------------------------------------------------------------------------------\\n')\n",
        "    \n",
        "  return accuracy,confusion_matrices,classification_report"
      ],
      "execution_count": 10,
      "outputs": []
    },
    {
      "cell_type": "markdown",
      "metadata": {
        "id": "9jDGPHGAW19i"
      },
      "source": [
        "#### Greedy Feature Selection"
      ]
    },
    {
      "cell_type": "code",
      "metadata": {
        "id": "gnD-u2qpfZik"
      },
      "source": [
        "def greedy_feature_selection(fold,df,models,target_name):\n",
        "\n",
        "  # target_index => stores the index of the target variable in the dataset\n",
        "  # kfolds_index => stores the index of kfolds column in the dataset\n",
        "  target_index=df.columns.get_loc(target_name)\n",
        "  kfolds_index=df.columns.get_loc('kfolds')\n",
        "\n",
        "  # good_features => stores the indices of all the optimal features\n",
        "  # best_scores => keeps track of the best scores \n",
        "  good_features=[]\n",
        "  best_scores=[]\n",
        "\n",
        "  # df has X and y and a kfolds column. \n",
        "  # no of features (no of columns in X) => total columns in df - 1 (there's 1 y) - 1 (there's 1 kfolds)\n",
        "  num_features=df.shape[1]-2\n",
        "\n",
        "\n",
        "  while True:\n",
        "\n",
        "    # this_feature => the feature added to the already selected features to measure the effect of the former on the model\n",
        "    # best_score => keeps track of the best score achieved while selecting features 1 at a time and checking its effect on the model\n",
        "    this_feature=None\n",
        "    best_score=0\n",
        "\n",
        "\n",
        "    for feature in range(num_features):\n",
        "\n",
        "      # if the feature is already in the good_features list, ignore and move ahead\n",
        "      if feature in good_features:\n",
        "        continue\n",
        "      \n",
        "      # add the currently selected feature to the already discovered good features\n",
        "      selected_features=good_features+[feature]\n",
        "\n",
        "      # all the selected features + target and kfolds column\n",
        "      df_train=df.iloc[:, selected_features + [target_index,kfolds_index]]\n",
        "\n",
        "      # fit the selected dataset to a model \n",
        "      accuracy,confusion_matrices,classification_report=run(fold,df_train,models)\n",
        "\n",
        "      # if any improvement is observed over the previous set of features\n",
        "      if(accuracy[0]>best_score):\n",
        "        this_feature=feature\n",
        "        best_score=accuracy[0]\n",
        "      \n",
        "    if(this_feature!=None):\n",
        "      good_features.append(this_feature)\n",
        "      best_scores.append(best_score)\n",
        "    \n",
        "    if(len(best_scores)>2):\n",
        "      if(best_scores[-1]<best_scores[-2]):\n",
        "        break\n",
        "    \n",
        "  return best_scores[:-1] , df.iloc[:, good_features[:-1] + [target_index,kfolds_index]]\n",
        "\n",
        "      \n"
      ],
      "execution_count": 11,
      "outputs": []
    },
    {
      "cell_type": "markdown",
      "metadata": {
        "id": "s8GWnRkWW621"
      },
      "source": [
        "#### Recursive Feature Selection"
      ]
    },
    {
      "cell_type": "code",
      "metadata": {
        "id": "KzqGFm74Duus"
      },
      "source": [
        "from sklearn.feature_selection import RFE\n",
        "\n",
        "def recursive_feature_selection(df,models,n_features_to_select,target_name):\n",
        "  X=df.drop(labels=[target_name,'kfolds'],axis=1).values\n",
        "  y=df[target_name]\n",
        "  kfolds=df.kfolds.values\n",
        "\n",
        "  model_name,model_constructor=list(models.items())[0]\n",
        "\n",
        "  rfe=RFE(\n",
        "      estimator=model_constructor,\n",
        "      n_features_to_select=n_features_to_select\n",
        "  )\n",
        "\n",
        "  try:\n",
        "    rfe.fit(X,y)\n",
        "  except RuntimeError:\n",
        "    print(f\"{model_name} does not support feature importance... Returning original dataframe\\n\")\n",
        "    return df\n",
        "  else:\n",
        "    X_transformed = rfe.transform(X)\n",
        "    df_optimal=pd.DataFrame(data=[X,y,kfolds])\n",
        "    return df_optimal"
      ],
      "execution_count": 12,
      "outputs": []
    },
    {
      "cell_type": "code",
      "metadata": {
        "id": "UbD6mu1Xhxre"
      },
      "source": [
        "from sklearn.neighbors import KNeighborsClassifier\n",
        "from sklearn.naive_bayes import GaussianNB\n",
        "from sklearn.naive_bayes import MultinomialNB"
      ],
      "execution_count": 13,
      "outputs": []
    },
    {
      "cell_type": "code",
      "metadata": {
        "id": "nzedHeZFO4mM",
        "outputId": "b76e30cb-df81-4ed0-f255-f95f6fa889f4",
        "colab": {
          "base_uri": "https://localhost:8080/"
        }
      },
      "source": [
        "print('Greedy Feature Selection : ')\n",
        "print('\\n')\n",
        "models={'KNN': KNeighborsClassifier()}\n",
        "best_scores,df_optimal_KNN=greedy_feature_selection(fold=4,df=df_2,models=models,target_name='Outcome')\n",
        "print(df_optimal_KNN.head())\n",
        "\n",
        "print('\\n')\n",
        "print(\"Recursive Feature Selection : \")\n",
        "print('\\n')\n",
        "df_recursive_optimal_KNN=recursive_feature_selection(df=df_2,models=models,n_features_to_select=5,target_name='Outcome')\n",
        "print(df_recursive_optimal_KNN.head())"
      ],
      "execution_count": 29,
      "outputs": [
        {
          "output_type": "stream",
          "text": [
            "Greedy Feature Selection : \n",
            "\n",
            "\n",
            "    Glucose  DiabetesPedigreeFunction       Age  Outcome  kfolds\n",
            "0 -0.230248                 -0.295300 -0.367793        1       0\n",
            "1  2.011697                 -0.680386  0.579018        1       0\n",
            "2 -0.614581                 -0.726229  0.923314        1       0\n",
            "3 -0.518498                 -0.625373  0.665092        1       0\n",
            "4  0.250169                 -0.255569 -1.142458        0       0\n",
            "\n",
            "\n",
            "Recursive Feature Selection : \n",
            "\n",
            "\n",
            "KNN does not support feature importance... Returning original dataframe\n",
            "\n",
            "   Pregnancies   Glucose  BloodPressure  ...       Age  Outcome  kfolds\n",
            "0    -0.053578 -0.230248      -0.423269  ... -0.367793        1       0\n",
            "1     0.787960  2.011697      -0.111124  ...  0.579018        1       0\n",
            "2     1.068473 -0.614581       1.553653  ...  0.923314        1       0\n",
            "3     1.629498 -0.518498      -0.215172  ...  0.665092        1       0\n",
            "4    -1.175629  0.250169       0.409119  ... -1.142458        0       0\n",
            "\n",
            "[5 rows x 10 columns]\n"
          ],
          "name": "stdout"
        }
      ]
    },
    {
      "cell_type": "code",
      "metadata": {
        "id": "Kn4xoHKOPPqg",
        "outputId": "c029e53e-f5e1-46b5-e0a8-bd9a86fce7e3",
        "colab": {
          "base_uri": "https://localhost:8080/"
        }
      },
      "source": [
        "models={'Naive Bayes' : GaussianNB()}\n",
        "best_scores,df_optimal_NB=greedy_feature_selection(fold=4,df=df_2,models=models,target_name='Outcome')\n",
        "print(df_optimal_NB.head())\n",
        "\n",
        "print('\\n')\n",
        "df_recursive_optimal_NB=recursive_feature_selection(df=df_2,models=models,n_features_to_select=5,target_name='Outcome')\n",
        "print(df_recursive_optimal_NB.head())"
      ],
      "execution_count": 15,
      "outputs": [
        {
          "output_type": "stream",
          "text": [
            "    Glucose  Pregnancies       BMI  Outcome  kfolds\n",
            "0 -0.230248    -0.053578 -0.363725        1       0\n",
            "1  2.011697     0.787960  0.691889        1       0\n",
            "2 -0.614581     1.068473  1.430819        1       0\n",
            "3 -0.518498     1.629498 -0.007455        1       0\n",
            "4  0.250169    -1.175629 -0.007455        0       0\n",
            "\n",
            "\n",
            "Naive Bayes does not support feature importance... Returning original dataframe\n",
            "\n",
            "   Pregnancies   Glucose  BloodPressure  ...       Age  Outcome  kfolds\n",
            "0    -0.053578 -0.230248      -0.423269  ... -0.367793        1       0\n",
            "1     0.787960  2.011697      -0.111124  ...  0.579018        1       0\n",
            "2     1.068473 -0.614581       1.553653  ...  0.923314        1       0\n",
            "3     1.629498 -0.518498      -0.215172  ...  0.665092        1       0\n",
            "4    -1.175629  0.250169       0.409119  ... -1.142458        0       0\n",
            "\n",
            "[5 rows x 10 columns]\n"
          ],
          "name": "stdout"
        }
      ]
    },
    {
      "cell_type": "markdown",
      "metadata": {
        "id": "lrjAuu7_iTJP"
      },
      "source": [
        "# Hyperparameter Tuning in KNN"
      ]
    },
    {
      "cell_type": "markdown",
      "metadata": {
        "id": "kS8PK47gPaA6"
      },
      "source": [
        "#### Manually finding the optimal value of n_neighbors parameter"
      ]
    },
    {
      "cell_type": "code",
      "metadata": {
        "id": "qjzRXvUXiwWO"
      },
      "source": [
        "# Find the optimal value of the n_neighbors parameter\n",
        "\n",
        "models={f'KNN_{i}':KNeighborsClassifier(n_neighbors=i) for i in range(2,31)}"
      ],
      "execution_count": 16,
      "outputs": []
    },
    {
      "cell_type": "code",
      "metadata": {
        "id": "YAUfVSKCj0Qi",
        "outputId": "b494f0ea-2233-4889-ca63-c99f6992f5da",
        "colab": {
          "base_uri": "https://localhost:8080/"
        }
      },
      "source": [
        "# run the model only for fold number 4 ie the 5th fold\n",
        "\n",
        "accuracy,confusion_matrices,classification_report=run(fold=4,df=df_optimal_KNN,models=models,print_details=True)"
      ],
      "execution_count": 17,
      "outputs": [
        {
          "output_type": "stream",
          "text": [
            "Model => KNN_2 => Fold = 4 => Training Accuracy = 0.8825 => Validation Accuracy = 0.67\n",
            "Model => KNN_3 => Fold = 4 => Training Accuracy = 0.85 => Validation Accuracy = 0.705\n",
            "Model => KNN_4 => Fold = 4 => Training Accuracy = 0.8175 => Validation Accuracy = 0.725\n",
            "Model => KNN_5 => Fold = 4 => Training Accuracy = 0.81625 => Validation Accuracy = 0.765\n",
            "Model => KNN_6 => Fold = 4 => Training Accuracy = 0.8025 => Validation Accuracy = 0.705\n",
            "Model => KNN_7 => Fold = 4 => Training Accuracy = 0.7975 => Validation Accuracy = 0.735\n",
            "Model => KNN_8 => Fold = 4 => Training Accuracy = 0.79625 => Validation Accuracy = 0.71\n",
            "Model => KNN_9 => Fold = 4 => Training Accuracy = 0.77375 => Validation Accuracy = 0.745\n",
            "Model => KNN_10 => Fold = 4 => Training Accuracy = 0.785 => Validation Accuracy = 0.74\n",
            "Model => KNN_11 => Fold = 4 => Training Accuracy = 0.77625 => Validation Accuracy = 0.72\n",
            "Model => KNN_12 => Fold = 4 => Training Accuracy = 0.77875 => Validation Accuracy = 0.72\n",
            "Model => KNN_13 => Fold = 4 => Training Accuracy = 0.77625 => Validation Accuracy = 0.715\n",
            "Model => KNN_14 => Fold = 4 => Training Accuracy = 0.77875 => Validation Accuracy = 0.725\n",
            "Model => KNN_15 => Fold = 4 => Training Accuracy = 0.775 => Validation Accuracy = 0.725\n",
            "Model => KNN_16 => Fold = 4 => Training Accuracy = 0.77875 => Validation Accuracy = 0.705\n",
            "Model => KNN_17 => Fold = 4 => Training Accuracy = 0.77625 => Validation Accuracy = 0.7\n",
            "Model => KNN_18 => Fold = 4 => Training Accuracy = 0.7725 => Validation Accuracy = 0.7\n",
            "Model => KNN_19 => Fold = 4 => Training Accuracy = 0.77375 => Validation Accuracy = 0.705\n",
            "Model => KNN_20 => Fold = 4 => Training Accuracy = 0.77625 => Validation Accuracy = 0.69\n",
            "Model => KNN_21 => Fold = 4 => Training Accuracy = 0.7725 => Validation Accuracy = 0.695\n",
            "Model => KNN_22 => Fold = 4 => Training Accuracy = 0.7675 => Validation Accuracy = 0.7\n",
            "Model => KNN_23 => Fold = 4 => Training Accuracy = 0.76875 => Validation Accuracy = 0.7\n",
            "Model => KNN_24 => Fold = 4 => Training Accuracy = 0.755 => Validation Accuracy = 0.7\n",
            "Model => KNN_25 => Fold = 4 => Training Accuracy = 0.76 => Validation Accuracy = 0.715\n",
            "Model => KNN_26 => Fold = 4 => Training Accuracy = 0.7575 => Validation Accuracy = 0.735\n",
            "Model => KNN_27 => Fold = 4 => Training Accuracy = 0.765 => Validation Accuracy = 0.73\n",
            "Model => KNN_28 => Fold = 4 => Training Accuracy = 0.76 => Validation Accuracy = 0.74\n",
            "Model => KNN_29 => Fold = 4 => Training Accuracy = 0.765 => Validation Accuracy = 0.75\n",
            "Model => KNN_30 => Fold = 4 => Training Accuracy = 0.75 => Validation Accuracy = 0.745\n",
            "\n",
            "--------------------------------------------------------------------------------------------\n",
            "\n"
          ],
          "name": "stdout"
        }
      ]
    },
    {
      "cell_type": "code",
      "metadata": {
        "id": "3E1KH5v6kKjg",
        "outputId": "4209e2e5-245d-4939-9f8d-3bfca7a21970",
        "colab": {
          "base_uri": "https://localhost:8080/",
          "height": 295
        }
      },
      "source": [
        "x=[i for i in range(2,31)]\n",
        "y=accuracy\n",
        "plt.plot(x,y)\n",
        "plt.xlabel('Number of Nearest Neighbors')\n",
        "plt.ylabel('Accuracy Score')\n",
        "plt.title(\"Optimal n_neighbors value\")\n",
        "plt.show()"
      ],
      "execution_count": 18,
      "outputs": [
        {
          "output_type": "display_data",
          "data": {
            "image/png": "[encoded data removed]",
            "text/plain": [
              "<Figure size 432x288 with 1 Axes>"
            ]
          },
          "metadata": {
            "tags": [],
            "needs_background": "light"
          }
        }
      ]
    },
    {
      "cell_type": "markdown",
      "metadata": {
        "id": "qf-hO1bvROJe"
      },
      "source": [
        "#### Using Grid Search to find optimal values of n_neighbors and p"
      ]
    },
    {
      "cell_type": "code",
      "metadata": {
        "id": "H6ABTeFUvGnr"
      },
      "source": [
        "from sklearn import model_selection\n",
        "from sklearn import metrics\n",
        "\n",
        "def hyperparameter_tune_and_run(df,num_folds,models,target_name,param_grid,evaluation_metric,print_details=False):\n",
        "  X=df.drop(labels=[target_name,'kfolds'],axis=1).values\n",
        "  y=df[target_name]\n",
        "\n",
        "  model_name,model_constructor=list(models.items())[0]\n",
        "\n",
        "  model = model_selection.GridSearchCV(\n",
        "      estimator = model_constructor,\n",
        "      param_grid = param_grid,\n",
        "      scoring = evaluation_metric,\n",
        "      verbose = 10,\n",
        "      cv = num_folds\n",
        "  )\n",
        "\n",
        "  model.fit(X,y)\n",
        "\n",
        "  if(print_details==True):\n",
        "    print(f\"Best score : {model.best_score_}\")\n",
        "\n",
        "    print(\"Best parameters : \")\n",
        "    best_parameters=model.best_estimator_.get_params()\n",
        "    for param_name in sorted(param_grid.keys()):\n",
        "      print(f\"\\t{param_name}: {best_parameters[param_name]}\")\n",
        "  \n",
        "  return model\n"
      ],
      "execution_count": 20,
      "outputs": []
    },
    {
      "cell_type": "code",
      "metadata": {
        "id": "NnFX0fA7zdwK",
        "outputId": "4f9e63cd-b422-41b8-921e-ba6ec3e13d15",
        "colab": {
          "base_uri": "https://localhost:8080/"
        }
      },
      "source": [
        "models={'KNN': KNeighborsClassifier()}\n",
        "param_grid = {\n",
        "    \"n_neighbors\" : [i for i in range(2,31)],\n",
        "    \"p\" : [2,3]\n",
        "}\n",
        "model = hyperparameter_tune_and_run(df=df_optimal_KNN,num_folds=5,models=models,target_name='Outcome',param_grid=param_grid,evaluation_metric=\"accuracy\",print_details=True)"
      ],
      "execution_count": 21,
      "outputs": [
        {
          "output_type": "stream",
          "text": [
            "Fitting 5 folds for each of 58 candidates, totalling 290 fits\n",
            "[CV] n_neighbors=2, p=2 ..............................................\n",
            "[CV] .................. n_neighbors=2, p=2, score=0.770, total=   0.0s\n",
            "[CV] n_neighbors=2, p=2 ..............................................\n",
            "[CV] .................. n_neighbors=2, p=2, score=0.730, total=   0.0s\n",
            "[CV] n_neighbors=2, p=2 ..............................................\n",
            "[CV] .................. n_neighbors=2, p=2, score=0.785, total=   0.0s\n",
            "[CV] n_neighbors=2, p=2 ..............................................\n",
            "[CV] .................. n_neighbors=2, p=2, score=0.755, total=   0.0s\n",
            "[CV] n_neighbors=2, p=2 ..............................................\n",
            "[CV] .................. n_neighbors=2, p=2, score=0.740, total=   0.0s\n",
            "[CV] n_neighbors=2, p=3 ..............................................\n",
            "[CV] .................. n_neighbors=2, p=3, score=0.775, total=   0.0s\n",
            "[CV] n_neighbors=2, p=3 ..............................................\n",
            "[CV] .................. n_neighbors=2, p=3, score=0.725, total=   0.0s\n",
            "[CV] n_neighbors=2, p=3 ..............................................\n",
            "[CV] .................. n_neighbors=2, p=3, score=0.790, total=   0.0s\n",
            "[CV] n_neighbors=2, p=3 ..............................................\n",
            "[CV] .................. n_neighbors=2, p=3, score=0.745, total=   0.0s\n",
            "[CV] n_neighbors=2, p=3 ..............................................\n",
            "[CV] .................. n_neighbors=2, p=3, score=0.745, total=   0.0s\n",
            "[CV] n_neighbors=3, p=2 ..............................................\n",
            "[CV] .................. n_neighbors=3, p=2, score=0.750, total=   0.0s\n",
            "[CV] n_neighbors=3, p=2 ..............................................\n",
            "[CV] .................. n_neighbors=3, p=2, score=0.750, total=   0.0s\n",
            "[CV] n_neighbors=3, p=2 ..............................................\n",
            "[CV] .................. n_neighbors=3, p=2, score=0.740, total=   0.0s\n",
            "[CV] n_neighbors=3, p=2 ..............................................\n",
            "[CV] .................. n_neighbors=3, p=2, score=0.755, total=   0.0s\n",
            "[CV] n_neighbors=3, p=2 ..............................................\n",
            "[CV] .................. n_neighbors=3, p=2, score=0.745, total=   0.0s\n",
            "[CV] n_neighbors=3, p=3 ..............................................\n",
            "[CV] .................. n_neighbors=3, p=3, score=0.745, total=   0.0s\n",
            "[CV] n_neighbors=3, p=3 ..............................................\n"
          ],
          "name": "stdout"
        },
        {
          "output_type": "stream",
          "text": [
            "[Parallel(n_jobs=1)]: Using backend SequentialBackend with 1 concurrent workers.\n",
            "[Parallel(n_jobs=1)]: Done   1 out of   1 | elapsed:    0.0s remaining:    0.0s\n",
            "[Parallel(n_jobs=1)]: Done   2 out of   2 | elapsed:    0.0s remaining:    0.0s\n",
            "[Parallel(n_jobs=1)]: Done   3 out of   3 | elapsed:    0.0s remaining:    0.0s\n",
            "[Parallel(n_jobs=1)]: Done   4 out of   4 | elapsed:    0.0s remaining:    0.0s\n",
            "[Parallel(n_jobs=1)]: Done   5 out of   5 | elapsed:    0.1s remaining:    0.0s\n",
            "[Parallel(n_jobs=1)]: Done   6 out of   6 | elapsed:    0.1s remaining:    0.0s\n",
            "[Parallel(n_jobs=1)]: Done   7 out of   7 | elapsed:    0.1s remaining:    0.0s\n",
            "[Parallel(n_jobs=1)]: Done   8 out of   8 | elapsed:    0.1s remaining:    0.0s\n",
            "[Parallel(n_jobs=1)]: Done   9 out of   9 | elapsed:    0.1s remaining:    0.0s\n"
          ],
          "name": "stderr"
        },
        {
          "output_type": "stream",
          "text": [
            "[CV] .................. n_neighbors=3, p=3, score=0.765, total=   0.0s\n",
            "[CV] n_neighbors=3, p=3 ..............................................\n",
            "[CV] .................. n_neighbors=3, p=3, score=0.755, total=   0.0s\n",
            "[CV] n_neighbors=3, p=3 ..............................................\n",
            "[CV] .................. n_neighbors=3, p=3, score=0.775, total=   0.0s\n",
            "[CV] n_neighbors=3, p=3 ..............................................\n",
            "[CV] .................. n_neighbors=3, p=3, score=0.740, total=   0.0s\n",
            "[CV] n_neighbors=4, p=2 ..............................................\n",
            "[CV] .................. n_neighbors=4, p=2, score=0.755, total=   0.0s\n",
            "[CV] n_neighbors=4, p=2 ..............................................\n",
            "[CV] .................. n_neighbors=4, p=2, score=0.735, total=   0.0s\n",
            "[CV] n_neighbors=4, p=2 ..............................................\n",
            "[CV] .................. n_neighbors=4, p=2, score=0.720, total=   0.0s\n",
            "[CV] n_neighbors=4, p=2 ..............................................\n",
            "[CV] .................. n_neighbors=4, p=2, score=0.730, total=   0.0s\n",
            "[CV] n_neighbors=4, p=2 ..............................................\n",
            "[CV] .................. n_neighbors=4, p=2, score=0.760, total=   0.0s\n",
            "[CV] n_neighbors=4, p=3 ..............................................\n",
            "[CV] .................. n_neighbors=4, p=3, score=0.735, total=   0.0s\n",
            "[CV] n_neighbors=4, p=3 ..............................................\n",
            "[CV] .................. n_neighbors=4, p=3, score=0.750, total=   0.0s\n",
            "[CV] n_neighbors=4, p=3 ..............................................\n",
            "[CV] .................. n_neighbors=4, p=3, score=0.730, total=   0.0s\n",
            "[CV] n_neighbors=4, p=3 ..............................................\n",
            "[CV] .................. n_neighbors=4, p=3, score=0.750, total=   0.0s\n",
            "[CV] n_neighbors=4, p=3 ..............................................\n",
            "[CV] .................. n_neighbors=4, p=3, score=0.740, total=   0.0s\n",
            "[CV] n_neighbors=5, p=2 ..............................................\n",
            "[CV] .................. n_neighbors=5, p=2, score=0.760, total=   0.0s\n",
            "[CV] n_neighbors=5, p=2 ..............................................\n",
            "[CV] .................. n_neighbors=5, p=2, score=0.730, total=   0.0s\n",
            "[CV] n_neighbors=5, p=2 ..............................................\n",
            "[CV] .................. n_neighbors=5, p=2, score=0.720, total=   0.0s\n",
            "[CV] n_neighbors=5, p=2 ..............................................\n",
            "[CV] .................. n_neighbors=5, p=2, score=0.745, total=   0.0s\n",
            "[CV] n_neighbors=5, p=2 ..............................................\n",
            "[CV] .................. n_neighbors=5, p=2, score=0.740, total=   0.0s\n",
            "[CV] n_neighbors=5, p=3 ..............................................\n",
            "[CV] .................. n_neighbors=5, p=3, score=0.765, total=   0.0s\n",
            "[CV] n_neighbors=5, p=3 ..............................................\n",
            "[CV] .................. n_neighbors=5, p=3, score=0.735, total=   0.0s\n",
            "[CV] n_neighbors=5, p=3 ..............................................\n",
            "[CV] .................. n_neighbors=5, p=3, score=0.730, total=   0.0s\n",
            "[CV] n_neighbors=5, p=3 ..............................................\n",
            "[CV] .................. n_neighbors=5, p=3, score=0.730, total=   0.0s\n",
            "[CV] n_neighbors=5, p=3 ..............................................\n",
            "[CV] .................. n_neighbors=5, p=3, score=0.745, total=   0.0s\n",
            "[CV] n_neighbors=6, p=2 ..............................................\n",
            "[CV] .................. n_neighbors=6, p=2, score=0.765, total=   0.0s\n",
            "[CV] n_neighbors=6, p=2 ..............................................\n",
            "[CV] .................. n_neighbors=6, p=2, score=0.730, total=   0.0s\n",
            "[CV] n_neighbors=6, p=2 ..............................................\n",
            "[CV] .................. n_neighbors=6, p=2, score=0.720, total=   0.0s\n",
            "[CV] n_neighbors=6, p=2 ..............................................\n",
            "[CV] .................. n_neighbors=6, p=2, score=0.725, total=   0.0s\n",
            "[CV] n_neighbors=6, p=2 ..............................................\n",
            "[CV] .................. n_neighbors=6, p=2, score=0.735, total=   0.0s\n",
            "[CV] n_neighbors=6, p=3 ..............................................\n",
            "[CV] .................. n_neighbors=6, p=3, score=0.775, total=   0.0s\n",
            "[CV] n_neighbors=6, p=3 ..............................................\n",
            "[CV] .................. n_neighbors=6, p=3, score=0.735, total=   0.0s\n",
            "[CV] n_neighbors=6, p=3 ..............................................\n",
            "[CV] .................. n_neighbors=6, p=3, score=0.745, total=   0.0s\n",
            "[CV] n_neighbors=6, p=3 ..............................................\n",
            "[CV] .................. n_neighbors=6, p=3, score=0.720, total=   0.0s\n",
            "[CV] n_neighbors=6, p=3 ..............................................\n",
            "[CV] .................. n_neighbors=6, p=3, score=0.745, total=   0.0s\n",
            "[CV] n_neighbors=7, p=2 ..............................................\n",
            "[CV] .................. n_neighbors=7, p=2, score=0.750, total=   0.0s\n",
            "[CV] n_neighbors=7, p=2 ..............................................\n",
            "[CV] .................. n_neighbors=7, p=2, score=0.730, total=   0.0s\n",
            "[CV] n_neighbors=7, p=2 ..............................................\n",
            "[CV] .................. n_neighbors=7, p=2, score=0.755, total=   0.0s\n",
            "[CV] n_neighbors=7, p=2 ..............................................\n",
            "[CV] .................. n_neighbors=7, p=2, score=0.710, total=   0.0s\n",
            "[CV] n_neighbors=7, p=2 ..............................................\n",
            "[CV] .................. n_neighbors=7, p=2, score=0.715, total=   0.0s\n",
            "[CV] n_neighbors=7, p=3 ..............................................\n",
            "[CV] .................. n_neighbors=7, p=3, score=0.770, total=   0.0s\n",
            "[CV] n_neighbors=7, p=3 ..............................................\n",
            "[CV] .................. n_neighbors=7, p=3, score=0.740, total=   0.0s\n",
            "[CV] n_neighbors=7, p=3 ..............................................\n",
            "[CV] .................. n_neighbors=7, p=3, score=0.750, total=   0.0s\n",
            "[CV] n_neighbors=7, p=3 ..............................................\n",
            "[CV] .................. n_neighbors=7, p=3, score=0.715, total=   0.0s\n",
            "[CV] n_neighbors=7, p=3 ..............................................\n",
            "[CV] .................. n_neighbors=7, p=3, score=0.725, total=   0.0s\n",
            "[CV] n_neighbors=8, p=2 ..............................................\n",
            "[CV] .................. n_neighbors=8, p=2, score=0.785, total=   0.0s\n",
            "[CV] n_neighbors=8, p=2 ..............................................\n",
            "[CV] .................. n_neighbors=8, p=2, score=0.730, total=   0.0s\n",
            "[CV] n_neighbors=8, p=2 ..............................................\n",
            "[CV] .................. n_neighbors=8, p=2, score=0.770, total=   0.0s\n",
            "[CV] n_neighbors=8, p=2 ..............................................\n",
            "[CV] .................. n_neighbors=8, p=2, score=0.695, total=   0.0s\n",
            "[CV] n_neighbors=8, p=2 ..............................................\n",
            "[CV] .................. n_neighbors=8, p=2, score=0.740, total=   0.0s\n",
            "[CV] n_neighbors=8, p=3 ..............................................\n",
            "[CV] .................. n_neighbors=8, p=3, score=0.790, total=   0.0s\n",
            "[CV] n_neighbors=8, p=3 ..............................................\n",
            "[CV] .................. n_neighbors=8, p=3, score=0.725, total=   0.0s\n",
            "[CV] n_neighbors=8, p=3 ..............................................\n",
            "[CV] .................. n_neighbors=8, p=3, score=0.760, total=   0.0s\n",
            "[CV] n_neighbors=8, p=3 ..............................................\n",
            "[CV] .................. n_neighbors=8, p=3, score=0.695, total=   0.0s\n",
            "[CV] n_neighbors=8, p=3 ..............................................\n",
            "[CV] .................. n_neighbors=8, p=3, score=0.745, total=   0.0s\n",
            "[CV] n_neighbors=9, p=2 ..............................................\n",
            "[CV] .................. n_neighbors=9, p=2, score=0.780, total=   0.0s\n",
            "[CV] n_neighbors=9, p=2 ..............................................\n",
            "[CV] .................. n_neighbors=9, p=2, score=0.720, total=   0.0s\n",
            "[CV] n_neighbors=9, p=2 ..............................................\n",
            "[CV] .................. n_neighbors=9, p=2, score=0.770, total=   0.0s\n",
            "[CV] n_neighbors=9, p=2 ..............................................\n",
            "[CV] .................. n_neighbors=9, p=2, score=0.705, total=   0.0s\n",
            "[CV] n_neighbors=9, p=2 ..............................................\n",
            "[CV] .................. n_neighbors=9, p=2, score=0.755, total=   0.0s\n",
            "[CV] n_neighbors=9, p=3 ..............................................\n",
            "[CV] .................. n_neighbors=9, p=3, score=0.770, total=   0.0s\n",
            "[CV] n_neighbors=9, p=3 ..............................................\n",
            "[CV] .................. n_neighbors=9, p=3, score=0.710, total=   0.0s\n",
            "[CV] n_neighbors=9, p=3 ..............................................\n",
            "[CV] .................. n_neighbors=9, p=3, score=0.765, total=   0.0s\n",
            "[CV] n_neighbors=9, p=3 ..............................................\n",
            "[CV] .................. n_neighbors=9, p=3, score=0.720, total=   0.0s\n",
            "[CV] n_neighbors=9, p=3 ..............................................\n",
            "[CV] .................. n_neighbors=9, p=3, score=0.760, total=   0.0s\n",
            "[CV] n_neighbors=10, p=2 .............................................\n",
            "[CV] ................. n_neighbors=10, p=2, score=0.765, total=   0.0s\n",
            "[CV] n_neighbors=10, p=2 .............................................\n",
            "[CV] ................. n_neighbors=10, p=2, score=0.725, total=   0.0s\n",
            "[CV] n_neighbors=10, p=2 .............................................\n",
            "[CV] ................. n_neighbors=10, p=2, score=0.755, total=   0.0s\n",
            "[CV] n_neighbors=10, p=2 .............................................\n",
            "[CV] ................. n_neighbors=10, p=2, score=0.710, total=   0.0s\n",
            "[CV] n_neighbors=10, p=2 .............................................\n",
            "[CV] ................. n_neighbors=10, p=2, score=0.770, total=   0.0s\n",
            "[CV] n_neighbors=10, p=3 .............................................\n",
            "[CV] ................. n_neighbors=10, p=3, score=0.765, total=   0.0s\n",
            "[CV] n_neighbors=10, p=3 .............................................\n",
            "[CV] ................. n_neighbors=10, p=3, score=0.720, total=   0.0s\n",
            "[CV] n_neighbors=10, p=3 .............................................\n",
            "[CV] ................. n_neighbors=10, p=3, score=0.755, total=   0.0s\n",
            "[CV] n_neighbors=10, p=3 .............................................\n",
            "[CV] ................. n_neighbors=10, p=3, score=0.730, total=   0.0s\n",
            "[CV] n_neighbors=10, p=3 .............................................\n",
            "[CV] ................. n_neighbors=10, p=3, score=0.780, total=   0.0s\n",
            "[CV] n_neighbors=11, p=2 .............................................\n",
            "[CV] ................. n_neighbors=11, p=2, score=0.765, total=   0.0s\n",
            "[CV] n_neighbors=11, p=2 .............................................\n",
            "[CV] ................. n_neighbors=11, p=2, score=0.750, total=   0.0s\n",
            "[CV] n_neighbors=11, p=2 .............................................\n",
            "[CV] ................. n_neighbors=11, p=2, score=0.770, total=   0.0s\n",
            "[CV] n_neighbors=11, p=2 .............................................\n",
            "[CV] ................. n_neighbors=11, p=2, score=0.730, total=   0.0s\n",
            "[CV] n_neighbors=11, p=2 .............................................\n",
            "[CV] ................. n_neighbors=11, p=2, score=0.780, total=   0.0s\n",
            "[CV] n_neighbors=11, p=3 .............................................\n",
            "[CV] ................. n_neighbors=11, p=3, score=0.775, total=   0.0s\n",
            "[CV] n_neighbors=11, p=3 .............................................\n",
            "[CV] ................. n_neighbors=11, p=3, score=0.760, total=   0.0s\n",
            "[CV] n_neighbors=11, p=3 .............................................\n",
            "[CV] ................. n_neighbors=11, p=3, score=0.755, total=   0.0s\n",
            "[CV] n_neighbors=11, p=3 .............................................\n",
            "[CV] ................. n_neighbors=11, p=3, score=0.735, total=   0.0s\n",
            "[CV] n_neighbors=11, p=3 .............................................\n",
            "[CV] ................. n_neighbors=11, p=3, score=0.785, total=   0.0s\n",
            "[CV] n_neighbors=12, p=2 .............................................\n",
            "[CV] ................. n_neighbors=12, p=2, score=0.765, total=   0.0s\n",
            "[CV] n_neighbors=12, p=2 .............................................\n",
            "[CV] ................. n_neighbors=12, p=2, score=0.780, total=   0.0s\n",
            "[CV] n_neighbors=12, p=2 .............................................\n",
            "[CV] ................. n_neighbors=12, p=2, score=0.770, total=   0.0s\n",
            "[CV] n_neighbors=12, p=2 .............................................\n",
            "[CV] ................. n_neighbors=12, p=2, score=0.730, total=   0.0s\n",
            "[CV] n_neighbors=12, p=2 .............................................\n",
            "[CV] ................. n_neighbors=12, p=2, score=0.785, total=   0.0s\n",
            "[CV] n_neighbors=12, p=3 .............................................\n",
            "[CV] ................. n_neighbors=12, p=3, score=0.775, total=   0.0s\n",
            "[CV] n_neighbors=12, p=3 .............................................\n",
            "[CV] ................. n_neighbors=12, p=3, score=0.790, total=   0.0s\n",
            "[CV] n_neighbors=12, p=3 .............................................\n",
            "[CV] ................. n_neighbors=12, p=3, score=0.780, total=   0.0s\n",
            "[CV] n_neighbors=12, p=3 .............................................\n",
            "[CV] ................. n_neighbors=12, p=3, score=0.735, total=   0.0s\n",
            "[CV] n_neighbors=12, p=3 .............................................\n",
            "[CV] ................. n_neighbors=12, p=3, score=0.790, total=   0.0s\n",
            "[CV] n_neighbors=13, p=2 .............................................\n",
            "[CV] ................. n_neighbors=13, p=2, score=0.775, total=   0.0s\n",
            "[CV] n_neighbors=13, p=2 .............................................\n",
            "[CV] ................. n_neighbors=13, p=2, score=0.765, total=   0.0s\n",
            "[CV] n_neighbors=13, p=2 .............................................\n",
            "[CV] ................. n_neighbors=13, p=2, score=0.770, total=   0.0s\n",
            "[CV] n_neighbors=13, p=2 .............................................\n",
            "[CV] ................. n_neighbors=13, p=2, score=0.735, total=   0.0s\n",
            "[CV] n_neighbors=13, p=2 .............................................\n",
            "[CV] ................. n_neighbors=13, p=2, score=0.770, total=   0.0s\n",
            "[CV] n_neighbors=13, p=3 .............................................\n",
            "[CV] ................. n_neighbors=13, p=3, score=0.775, total=   0.0s\n",
            "[CV] n_neighbors=13, p=3 .............................................\n",
            "[CV] ................. n_neighbors=13, p=3, score=0.770, total=   0.0s\n",
            "[CV] n_neighbors=13, p=3 .............................................\n",
            "[CV] ................. n_neighbors=13, p=3, score=0.765, total=   0.0s\n",
            "[CV] n_neighbors=13, p=3 .............................................\n",
            "[CV] ................. n_neighbors=13, p=3, score=0.740, total=   0.0s\n",
            "[CV] n_neighbors=13, p=3 .............................................\n",
            "[CV] ................. n_neighbors=13, p=3, score=0.770, total=   0.0s\n",
            "[CV] n_neighbors=14, p=2 .............................................\n",
            "[CV] ................. n_neighbors=14, p=2, score=0.780, total=   0.0s\n",
            "[CV] n_neighbors=14, p=2 .............................................\n",
            "[CV] ................. n_neighbors=14, p=2, score=0.760, total=   0.0s\n",
            "[CV] n_neighbors=14, p=2 .............................................\n",
            "[CV] ................. n_neighbors=14, p=2, score=0.765, total=   0.0s\n",
            "[CV] n_neighbors=14, p=2 .............................................\n",
            "[CV] ................. n_neighbors=14, p=2, score=0.745, total=   0.0s\n",
            "[CV] n_neighbors=14, p=2 .............................................\n",
            "[CV] ................. n_neighbors=14, p=2, score=0.770, total=   0.0s\n",
            "[CV] n_neighbors=14, p=3 .............................................\n",
            "[CV] ................. n_neighbors=14, p=3, score=0.780, total=   0.0s\n",
            "[CV] n_neighbors=14, p=3 .............................................\n",
            "[CV] ................. n_neighbors=14, p=3, score=0.770, total=   0.0s\n",
            "[CV] n_neighbors=14, p=3 .............................................\n",
            "[CV] ................. n_neighbors=14, p=3, score=0.765, total=   0.0s\n",
            "[CV] n_neighbors=14, p=3 .............................................\n",
            "[CV] ................. n_neighbors=14, p=3, score=0.750, total=   0.0s\n",
            "[CV] n_neighbors=14, p=3 .............................................\n",
            "[CV] ................. n_neighbors=14, p=3, score=0.765, total=   0.0s\n",
            "[CV] n_neighbors=15, p=2 .............................................\n",
            "[CV] ................. n_neighbors=15, p=2, score=0.760, total=   0.0s\n",
            "[CV] n_neighbors=15, p=2 .............................................\n",
            "[CV] ................. n_neighbors=15, p=2, score=0.770, total=   0.0s\n",
            "[CV] n_neighbors=15, p=2 .............................................\n",
            "[CV] ................. n_neighbors=15, p=2, score=0.755, total=   0.0s\n",
            "[CV] n_neighbors=15, p=2 .............................................\n",
            "[CV] ................. n_neighbors=15, p=2, score=0.755, total=   0.0s\n",
            "[CV] n_neighbors=15, p=2 .............................................\n",
            "[CV] ................. n_neighbors=15, p=2, score=0.765, total=   0.0s\n",
            "[CV] n_neighbors=15, p=3 .............................................\n",
            "[CV] ................. n_neighbors=15, p=3, score=0.780, total=   0.0s\n",
            "[CV] n_neighbors=15, p=3 .............................................\n",
            "[CV] ................. n_neighbors=15, p=3, score=0.780, total=   0.0s\n",
            "[CV] n_neighbors=15, p=3 .............................................\n",
            "[CV] ................. n_neighbors=15, p=3, score=0.765, total=   0.0s\n",
            "[CV] n_neighbors=15, p=3 .............................................\n",
            "[CV] ................. n_neighbors=15, p=3, score=0.760, total=   0.0s\n",
            "[CV] n_neighbors=15, p=3 .............................................\n",
            "[CV] ................. n_neighbors=15, p=3, score=0.755, total=   0.0s\n",
            "[CV] n_neighbors=16, p=2 .............................................\n",
            "[CV] ................. n_neighbors=16, p=2, score=0.770, total=   0.0s\n",
            "[CV] n_neighbors=16, p=2 .............................................\n",
            "[CV] ................. n_neighbors=16, p=2, score=0.785, total=   0.0s\n",
            "[CV] n_neighbors=16, p=2 .............................................\n",
            "[CV] ................. n_neighbors=16, p=2, score=0.745, total=   0.0s\n",
            "[CV] n_neighbors=16, p=2 .............................................\n",
            "[CV] ................. n_neighbors=16, p=2, score=0.760, total=   0.0s\n",
            "[CV] n_neighbors=16, p=2 .............................................\n",
            "[CV] ................. n_neighbors=16, p=2, score=0.775, total=   0.0s\n",
            "[CV] n_neighbors=16, p=3 .............................................\n",
            "[CV] ................. n_neighbors=16, p=3, score=0.780, total=   0.0s\n",
            "[CV] n_neighbors=16, p=3 .............................................\n",
            "[CV] ................. n_neighbors=16, p=3, score=0.785, total=   0.0s\n",
            "[CV] n_neighbors=16, p=3 .............................................\n",
            "[CV] ................. n_neighbors=16, p=3, score=0.755, total=   0.0s\n",
            "[CV] n_neighbors=16, p=3 .............................................\n",
            "[CV] ................. n_neighbors=16, p=3, score=0.765, total=   0.0s\n",
            "[CV] n_neighbors=16, p=3 .............................................\n",
            "[CV] ................. n_neighbors=16, p=3, score=0.765, total=   0.0s\n",
            "[CV] n_neighbors=17, p=2 .............................................\n",
            "[CV] ................. n_neighbors=17, p=2, score=0.760, total=   0.0s\n",
            "[CV] n_neighbors=17, p=2 .............................................\n",
            "[CV] ................. n_neighbors=17, p=2, score=0.780, total=   0.0s\n",
            "[CV] n_neighbors=17, p=2 .............................................\n",
            "[CV] ................. n_neighbors=17, p=2, score=0.750, total=   0.0s\n",
            "[CV] n_neighbors=17, p=2 .............................................\n",
            "[CV] ................. n_neighbors=17, p=2, score=0.750, total=   0.0s\n",
            "[CV] n_neighbors=17, p=2 .............................................\n",
            "[CV] ................. n_neighbors=17, p=2, score=0.760, total=   0.0s\n",
            "[CV] n_neighbors=17, p=3 .............................................\n",
            "[CV] ................. n_neighbors=17, p=3, score=0.765, total=   0.0s\n",
            "[CV] n_neighbors=17, p=3 .............................................\n",
            "[CV] ................. n_neighbors=17, p=3, score=0.770, total=   0.0s\n",
            "[CV] n_neighbors=17, p=3 .............................................\n",
            "[CV] ................. n_neighbors=17, p=3, score=0.750, total=   0.0s\n",
            "[CV] n_neighbors=17, p=3 .............................................\n",
            "[CV] ................. n_neighbors=17, p=3, score=0.765, total=   0.0s\n",
            "[CV] n_neighbors=17, p=3 .............................................\n",
            "[CV] ................. n_neighbors=17, p=3, score=0.760, total=   0.0s\n",
            "[CV] n_neighbors=18, p=2 .............................................\n",
            "[CV] ................. n_neighbors=18, p=2, score=0.765, total=   0.0s\n",
            "[CV] n_neighbors=18, p=2 .............................................\n",
            "[CV] ................. n_neighbors=18, p=2, score=0.785, total=   0.0s\n",
            "[CV] n_neighbors=18, p=2 .............................................\n",
            "[CV] ................. n_neighbors=18, p=2, score=0.755, total=   0.0s\n",
            "[CV] n_neighbors=18, p=2 .............................................\n",
            "[CV] ................. n_neighbors=18, p=2, score=0.750, total=   0.0s\n",
            "[CV] n_neighbors=18, p=2 .............................................\n",
            "[CV] ................. n_neighbors=18, p=2, score=0.755, total=   0.0s\n",
            "[CV] n_neighbors=18, p=3 .............................................\n",
            "[CV] ................. n_neighbors=18, p=3, score=0.765, total=   0.0s\n",
            "[CV] n_neighbors=18, p=3 .............................................\n",
            "[CV] ................. n_neighbors=18, p=3, score=0.780, total=   0.0s\n",
            "[CV] n_neighbors=18, p=3 .............................................\n",
            "[CV] ................. n_neighbors=18, p=3, score=0.750, total=   0.0s\n",
            "[CV] n_neighbors=18, p=3 .............................................\n",
            "[CV] ................. n_neighbors=18, p=3, score=0.765, total=   0.0s\n",
            "[CV] n_neighbors=18, p=3 .............................................\n",
            "[CV] ................. n_neighbors=18, p=3, score=0.765, total=   0.0s\n",
            "[CV] n_neighbors=19, p=2 .............................................\n",
            "[CV] ................. n_neighbors=19, p=2, score=0.760, total=   0.0s\n",
            "[CV] n_neighbors=19, p=2 .............................................\n",
            "[CV] ................. n_neighbors=19, p=2, score=0.795, total=   0.0s\n",
            "[CV] n_neighbors=19, p=2 .............................................\n",
            "[CV] ................. n_neighbors=19, p=2, score=0.745, total=   0.0s\n",
            "[CV] n_neighbors=19, p=2 .............................................\n",
            "[CV] ................. n_neighbors=19, p=2, score=0.765, total=   0.0s\n",
            "[CV] n_neighbors=19, p=2 .............................................\n",
            "[CV] ................. n_neighbors=19, p=2, score=0.745, total=   0.0s\n",
            "[CV] n_neighbors=19, p=3 .............................................\n",
            "[CV] ................. n_neighbors=19, p=3, score=0.770, total=   0.0s\n",
            "[CV] n_neighbors=19, p=3 .............................................\n",
            "[CV] ................. n_neighbors=19, p=3, score=0.765, total=   0.0s\n",
            "[CV] n_neighbors=19, p=3 .............................................\n",
            "[CV] ................. n_neighbors=19, p=3, score=0.755, total=   0.0s\n",
            "[CV] n_neighbors=19, p=3 .............................................\n",
            "[CV] ................. n_neighbors=19, p=3, score=0.760, total=   0.0s\n",
            "[CV] n_neighbors=19, p=3 .............................................\n",
            "[CV] ................. n_neighbors=19, p=3, score=0.760, total=   0.0s\n",
            "[CV] n_neighbors=20, p=2 .............................................\n",
            "[CV] ................. n_neighbors=20, p=2, score=0.750, total=   0.0s\n",
            "[CV] n_neighbors=20, p=2 .............................................\n",
            "[CV] ................. n_neighbors=20, p=2, score=0.800, total=   0.0s\n",
            "[CV] n_neighbors=20, p=2 .............................................\n",
            "[CV] ................. n_neighbors=20, p=2, score=0.750, total=   0.0s\n",
            "[CV] n_neighbors=20, p=2 .............................................\n",
            "[CV] ................. n_neighbors=20, p=2, score=0.750, total=   0.0s\n",
            "[CV] n_neighbors=20, p=2 .............................................\n",
            "[CV] ................. n_neighbors=20, p=2, score=0.760, total=   0.0s\n",
            "[CV] n_neighbors=20, p=3 .............................................\n",
            "[CV] ................. n_neighbors=20, p=3, score=0.780, total=   0.0s\n",
            "[CV] n_neighbors=20, p=3 .............................................\n",
            "[CV] ................. n_neighbors=20, p=3, score=0.780, total=   0.0s\n",
            "[CV] n_neighbors=20, p=3 .............................................\n",
            "[CV] ................. n_neighbors=20, p=3, score=0.750, total=   0.0s\n",
            "[CV] n_neighbors=20, p=3 .............................................\n",
            "[CV] ................. n_neighbors=20, p=3, score=0.750, total=   0.0s\n",
            "[CV] n_neighbors=20, p=3 .............................................\n",
            "[CV] ................. n_neighbors=20, p=3, score=0.770, total=   0.0s\n",
            "[CV] n_neighbors=21, p=2 .............................................\n",
            "[CV] ................. n_neighbors=21, p=2, score=0.755, total=   0.0s\n",
            "[CV] n_neighbors=21, p=2 .............................................\n",
            "[CV] ................. n_neighbors=21, p=2, score=0.785, total=   0.0s\n",
            "[CV] n_neighbors=21, p=2 .............................................\n",
            "[CV] ................. n_neighbors=21, p=2, score=0.750, total=   0.0s\n",
            "[CV] n_neighbors=21, p=2 .............................................\n",
            "[CV] ................. n_neighbors=21, p=2, score=0.745, total=   0.0s\n",
            "[CV] n_neighbors=21, p=2 .............................................\n",
            "[CV] ................. n_neighbors=21, p=2, score=0.760, total=   0.0s\n",
            "[CV] n_neighbors=21, p=3 .............................................\n",
            "[CV] ................. n_neighbors=21, p=3, score=0.765, total=   0.0s\n",
            "[CV] n_neighbors=21, p=3 .............................................\n",
            "[CV] ................. n_neighbors=21, p=3, score=0.795, total=   0.0s\n",
            "[CV] n_neighbors=21, p=3 .............................................\n",
            "[CV] ................. n_neighbors=21, p=3, score=0.750, total=   0.0s\n",
            "[CV] n_neighbors=21, p=3 .............................................\n",
            "[CV] ................. n_neighbors=21, p=3, score=0.755, total=   0.0s\n",
            "[CV] n_neighbors=21, p=3 .............................................\n",
            "[CV] ................. n_neighbors=21, p=3, score=0.765, total=   0.0s\n",
            "[CV] n_neighbors=22, p=2 .............................................\n",
            "[CV] ................. n_neighbors=22, p=2, score=0.760, total=   0.0s\n",
            "[CV] n_neighbors=22, p=2 .............................................\n",
            "[CV] ................. n_neighbors=22, p=2, score=0.810, total=   0.0s\n",
            "[CV] n_neighbors=22, p=2 .............................................\n",
            "[CV] ................. n_neighbors=22, p=2, score=0.755, total=   0.0s\n",
            "[CV] n_neighbors=22, p=2 .............................................\n",
            "[CV] ................. n_neighbors=22, p=2, score=0.735, total=   0.0s\n",
            "[CV] n_neighbors=22, p=2 .............................................\n",
            "[CV] ................. n_neighbors=22, p=2, score=0.765, total=   0.0s\n",
            "[CV] n_neighbors=22, p=3 .............................................\n",
            "[CV] ................. n_neighbors=22, p=3, score=0.770, total=   0.0s\n",
            "[CV] n_neighbors=22, p=3 .............................................\n",
            "[CV] ................. n_neighbors=22, p=3, score=0.795, total=   0.0s\n",
            "[CV] n_neighbors=22, p=3 .............................................\n",
            "[CV] ................. n_neighbors=22, p=3, score=0.760, total=   0.0s\n",
            "[CV] n_neighbors=22, p=3 .............................................\n",
            "[CV] ................. n_neighbors=22, p=3, score=0.750, total=   0.0s\n",
            "[CV] n_neighbors=22, p=3 .............................................\n",
            "[CV] ................. n_neighbors=22, p=3, score=0.770, total=   0.0s\n",
            "[CV] n_neighbors=23, p=2 .............................................\n",
            "[CV] ................. n_neighbors=23, p=2, score=0.770, total=   0.0s\n",
            "[CV] n_neighbors=23, p=2 .............................................\n",
            "[CV] ................. n_neighbors=23, p=2, score=0.805, total=   0.0s\n",
            "[CV] n_neighbors=23, p=2 .............................................\n",
            "[CV] ................. n_neighbors=23, p=2, score=0.755, total=   0.0s\n",
            "[CV] n_neighbors=23, p=2 .............................................\n",
            "[CV] ................. n_neighbors=23, p=2, score=0.730, total=   0.0s\n",
            "[CV] n_neighbors=23, p=2 .............................................\n",
            "[CV] ................. n_neighbors=23, p=2, score=0.750, total=   0.0s\n",
            "[CV] n_neighbors=23, p=3 .............................................\n",
            "[CV] ................. n_neighbors=23, p=3, score=0.765, total=   0.0s\n",
            "[CV] n_neighbors=23, p=3 .............................................\n",
            "[CV] ................. n_neighbors=23, p=3, score=0.785, total=   0.0s\n",
            "[CV] n_neighbors=23, p=3 .............................................\n",
            "[CV] ................. n_neighbors=23, p=3, score=0.750, total=   0.0s\n",
            "[CV] n_neighbors=23, p=3 .............................................\n",
            "[CV] ................. n_neighbors=23, p=3, score=0.740, total=   0.0s\n",
            "[CV] n_neighbors=23, p=3 .............................................\n",
            "[CV] ................. n_neighbors=23, p=3, score=0.755, total=   0.0s\n",
            "[CV] n_neighbors=24, p=2 .............................................\n",
            "[CV] ................. n_neighbors=24, p=2, score=0.760, total=   0.0s\n",
            "[CV] n_neighbors=24, p=2 .............................................\n",
            "[CV] ................. n_neighbors=24, p=2, score=0.805, total=   0.0s\n",
            "[CV] n_neighbors=24, p=2 .............................................\n",
            "[CV] ................. n_neighbors=24, p=2, score=0.760, total=   0.0s\n",
            "[CV] n_neighbors=24, p=2 .............................................\n",
            "[CV] ................. n_neighbors=24, p=2, score=0.745, total=   0.0s\n",
            "[CV] n_neighbors=24, p=2 .............................................\n",
            "[CV] ................. n_neighbors=24, p=2, score=0.770, total=   0.0s\n",
            "[CV] n_neighbors=24, p=3 .............................................\n",
            "[CV] ................. n_neighbors=24, p=3, score=0.765, total=   0.0s\n",
            "[CV] n_neighbors=24, p=3 .............................................\n",
            "[CV] ................. n_neighbors=24, p=3, score=0.790, total=   0.0s\n",
            "[CV] n_neighbors=24, p=3 .............................................\n",
            "[CV] ................. n_neighbors=24, p=3, score=0.750, total=   0.0s\n",
            "[CV] n_neighbors=24, p=3 .............................................\n",
            "[CV] ................. n_neighbors=24, p=3, score=0.745, total=   0.0s\n",
            "[CV] n_neighbors=24, p=3 .............................................\n",
            "[CV] ................. n_neighbors=24, p=3, score=0.740, total=   0.0s\n",
            "[CV] n_neighbors=25, p=2 .............................................\n",
            "[CV] ................. n_neighbors=25, p=2, score=0.760, total=   0.0s\n",
            "[CV] n_neighbors=25, p=2 .............................................\n",
            "[CV] ................. n_neighbors=25, p=2, score=0.800, total=   0.0s\n",
            "[CV] n_neighbors=25, p=2 .............................................\n",
            "[CV] ................. n_neighbors=25, p=2, score=0.750, total=   0.0s\n",
            "[CV] n_neighbors=25, p=2 .............................................\n",
            "[CV] ................. n_neighbors=25, p=2, score=0.735, total=   0.0s\n",
            "[CV] n_neighbors=25, p=2 .............................................\n",
            "[CV] ................. n_neighbors=25, p=2, score=0.765, total=   0.0s\n",
            "[CV] n_neighbors=25, p=3 .............................................\n",
            "[CV] ................. n_neighbors=25, p=3, score=0.760, total=   0.0s\n",
            "[CV] n_neighbors=25, p=3 .............................................\n",
            "[CV] ................. n_neighbors=25, p=3, score=0.755, total=   0.0s\n",
            "[CV] n_neighbors=25, p=3 .............................................\n",
            "[CV] ................. n_neighbors=25, p=3, score=0.745, total=   0.0s\n",
            "[CV] n_neighbors=25, p=3 .............................................\n",
            "[CV] ................. n_neighbors=25, p=3, score=0.750, total=   0.0s\n",
            "[CV] n_neighbors=25, p=3 .............................................\n",
            "[CV] ................. n_neighbors=25, p=3, score=0.750, total=   0.0s\n",
            "[CV] n_neighbors=26, p=2 .............................................\n",
            "[CV] ................. n_neighbors=26, p=2, score=0.755, total=   0.0s\n",
            "[CV] n_neighbors=26, p=2 .............................................\n",
            "[CV] ................. n_neighbors=26, p=2, score=0.810, total=   0.0s\n",
            "[CV] n_neighbors=26, p=2 .............................................\n",
            "[CV] ................. n_neighbors=26, p=2, score=0.755, total=   0.0s\n",
            "[CV] n_neighbors=26, p=2 .............................................\n",
            "[CV] ................. n_neighbors=26, p=2, score=0.735, total=   0.0s\n",
            "[CV] n_neighbors=26, p=2 .............................................\n",
            "[CV] ................. n_neighbors=26, p=2, score=0.755, total=   0.0s\n",
            "[CV] n_neighbors=26, p=3 .............................................\n",
            "[CV] ................. n_neighbors=26, p=3, score=0.755, total=   0.0s\n",
            "[CV] n_neighbors=26, p=3 .............................................\n",
            "[CV] ................. n_neighbors=26, p=3, score=0.765, total=   0.0s\n",
            "[CV] n_neighbors=26, p=3 .............................................\n",
            "[CV] ................. n_neighbors=26, p=3, score=0.745, total=   0.0s\n",
            "[CV] n_neighbors=26, p=3 .............................................\n",
            "[CV] ................. n_neighbors=26, p=3, score=0.740, total=   0.0s\n",
            "[CV] n_neighbors=26, p=3 .............................................\n",
            "[CV] ................. n_neighbors=26, p=3, score=0.740, total=   0.0s\n",
            "[CV] n_neighbors=27, p=2 .............................................\n",
            "[CV] ................. n_neighbors=27, p=2, score=0.750, total=   0.0s\n",
            "[CV] n_neighbors=27, p=2 .............................................\n",
            "[CV] ................. n_neighbors=27, p=2, score=0.790, total=   0.0s\n",
            "[CV] n_neighbors=27, p=2 .............................................\n",
            "[CV] ................. n_neighbors=27, p=2, score=0.755, total=   0.0s\n",
            "[CV] n_neighbors=27, p=2 .............................................\n",
            "[CV] ................. n_neighbors=27, p=2, score=0.750, total=   0.0s\n",
            "[CV] n_neighbors=27, p=2 .............................................\n",
            "[CV] ................. n_neighbors=27, p=2, score=0.760, total=   0.0s\n",
            "[CV] n_neighbors=27, p=3 .............................................\n",
            "[CV] ................. n_neighbors=27, p=3, score=0.755, total=   0.0s\n",
            "[CV] n_neighbors=27, p=3 .............................................\n",
            "[CV] ................. n_neighbors=27, p=3, score=0.760, total=   0.0s\n",
            "[CV] n_neighbors=27, p=3 .............................................\n",
            "[CV] ................. n_neighbors=27, p=3, score=0.750, total=   0.0s\n",
            "[CV] n_neighbors=27, p=3 .............................................\n",
            "[CV] ................. n_neighbors=27, p=3, score=0.740, total=   0.0s\n",
            "[CV] n_neighbors=27, p=3 .............................................\n",
            "[CV] ................. n_neighbors=27, p=3, score=0.740, total=   0.0s\n",
            "[CV] n_neighbors=28, p=2 .............................................\n",
            "[CV] ................. n_neighbors=28, p=2, score=0.765, total=   0.0s\n",
            "[CV] n_neighbors=28, p=2 .............................................\n",
            "[CV] ................. n_neighbors=28, p=2, score=0.800, total=   0.0s\n",
            "[CV] n_neighbors=28, p=2 .............................................\n",
            "[CV] ................. n_neighbors=28, p=2, score=0.760, total=   0.0s\n",
            "[CV] n_neighbors=28, p=2 .............................................\n",
            "[CV] ................. n_neighbors=28, p=2, score=0.750, total=   0.0s\n",
            "[CV] n_neighbors=28, p=2 .............................................\n",
            "[CV] ................. n_neighbors=28, p=2, score=0.750, total=   0.0s\n",
            "[CV] n_neighbors=28, p=3 .............................................\n",
            "[CV] ................. n_neighbors=28, p=3, score=0.765, total=   0.0s\n",
            "[CV] n_neighbors=28, p=3 .............................................\n",
            "[CV] ................. n_neighbors=28, p=3, score=0.760, total=   0.0s\n",
            "[CV] n_neighbors=28, p=3 .............................................\n",
            "[CV] ................. n_neighbors=28, p=3, score=0.760, total=   0.0s\n",
            "[CV] n_neighbors=28, p=3 .............................................\n",
            "[CV] ................. n_neighbors=28, p=3, score=0.740, total=   0.0s\n",
            "[CV] n_neighbors=28, p=3 .............................................\n",
            "[CV] ................. n_neighbors=28, p=3, score=0.745, total=   0.0s\n",
            "[CV] n_neighbors=29, p=2 .............................................\n",
            "[CV] ................. n_neighbors=29, p=2, score=0.745, total=   0.0s\n",
            "[CV] n_neighbors=29, p=2 .............................................\n",
            "[CV] ................. n_neighbors=29, p=2, score=0.775, total=   0.0s\n",
            "[CV] n_neighbors=29, p=2 .............................................\n",
            "[CV] ................. n_neighbors=29, p=2, score=0.765, total=   0.0s\n",
            "[CV] n_neighbors=29, p=2 .............................................\n",
            "[CV] ................. n_neighbors=29, p=2, score=0.735, total=   0.0s\n",
            "[CV] n_neighbors=29, p=2 .............................................\n",
            "[CV] ................. n_neighbors=29, p=2, score=0.750, total=   0.0s\n",
            "[CV] n_neighbors=29, p=3 .............................................\n",
            "[CV] ................. n_neighbors=29, p=3, score=0.750, total=   0.0s\n",
            "[CV] n_neighbors=29, p=3 .............................................\n",
            "[CV] ................. n_neighbors=29, p=3, score=0.765, total=   0.0s\n",
            "[CV] n_neighbors=29, p=3 .............................................\n",
            "[CV] ................. n_neighbors=29, p=3, score=0.745, total=   0.0s\n",
            "[CV] n_neighbors=29, p=3 .............................................\n",
            "[CV] ................. n_neighbors=29, p=3, score=0.740, total=   0.0s\n",
            "[CV] n_neighbors=29, p=3 .............................................\n",
            "[CV] ................. n_neighbors=29, p=3, score=0.750, total=   0.0s\n",
            "[CV] n_neighbors=30, p=2 .............................................\n",
            "[CV] ................. n_neighbors=30, p=2, score=0.760, total=   0.0s\n",
            "[CV] n_neighbors=30, p=2 .............................................\n",
            "[CV] ................. n_neighbors=30, p=2, score=0.790, total=   0.0s\n",
            "[CV] n_neighbors=30, p=2 .............................................\n",
            "[CV] ................. n_neighbors=30, p=2, score=0.755, total=   0.0s\n",
            "[CV] n_neighbors=30, p=2 .............................................\n",
            "[CV] ................. n_neighbors=30, p=2, score=0.740, total=   0.0s\n",
            "[CV] n_neighbors=30, p=2 .............................................\n",
            "[CV] ................. n_neighbors=30, p=2, score=0.745, total=   0.0s\n",
            "[CV] n_neighbors=30, p=3 .............................................\n",
            "[CV] ................. n_neighbors=30, p=3, score=0.760, total=   0.0s\n",
            "[CV] n_neighbors=30, p=3 .............................................\n",
            "[CV] ................. n_neighbors=30, p=3, score=0.775, total=   0.0s\n",
            "[CV] n_neighbors=30, p=3 .............................................\n",
            "[CV] ................. n_neighbors=30, p=3, score=0.745, total=   0.0s\n",
            "[CV] n_neighbors=30, p=3 .............................................\n",
            "[CV] ................. n_neighbors=30, p=3, score=0.745, total=   0.0s\n",
            "[CV] n_neighbors=30, p=3 .............................................\n",
            "[CV] ................. n_neighbors=30, p=3, score=0.745, total=   0.0s\n",
            "Best score : 0.7739999999999999\n",
            "Best parameters : \n",
            "\tn_neighbors: 12\n",
            "\tp: 3\n"
          ],
          "name": "stdout"
        },
        {
          "output_type": "stream",
          "text": [
            "[Parallel(n_jobs=1)]: Done 290 out of 290 | elapsed:    4.3s finished\n"
          ],
          "name": "stderr"
        }
      ]
    },
    {
      "cell_type": "markdown",
      "metadata": {
        "id": "-B2gULrnib1b"
      },
      "source": [
        "# Comparison between KNN and NB\n",
        "\n",
        "1.   Dataset when KNN was considered for feature selection\n",
        "2.   Dataset when NB was considered for feature selection\n",
        "\n"
      ]
    },
    {
      "cell_type": "code",
      "metadata": {
        "id": "_Wj--fc_gyJs"
      },
      "source": [
        "# Compare between KNN and Naive Bayes\n",
        "\n",
        "models={\n",
        "        'KNN': KNeighborsClassifier(n_neighbors=12,p=3),\n",
        "        'Gaussian Naive Bayes': GaussianNB(),\n",
        "        }"
      ],
      "execution_count": 39,
      "outputs": []
    },
    {
      "cell_type": "code",
      "metadata": {
        "id": "HIyTXMrfhn8n",
        "outputId": "62433534-0950-468f-be44-1a1f0ad36dd3",
        "colab": {
          "base_uri": "https://localhost:8080/"
        }
      },
      "source": [
        "# accuracies => list of 5 lists. Each list will contain 3 values ie KNN accuracy, Gaussian Naive Bayes\n",
        "\n",
        "accuracies,confusion_matrices,classification_reports=[],[],[]\n",
        "for f in range(5):\n",
        "  accuracy,confusion_matrix,classification_report=run(f,df_optimal_KNN,models=models,print_details=True)\n",
        "  accuracies.append(accuracy)\n",
        "  confusion_matrices.append(confusion_matrix)\n",
        "  classification_reports.append(classification_report)"
      ],
      "execution_count": 40,
      "outputs": [
        {
          "output_type": "stream",
          "text": [
            "Model => KNN => Fold = 0 => Training Accuracy = 0.75 => Validation Accuracy = 0.75\n",
            "Model => Gaussian Naive Bayes => Fold = 0 => Training Accuracy = 0.7125 => Validation Accuracy = 0.705\n",
            "\n",
            "--------------------------------------------------------------------------------------------\n",
            "\n",
            "Model => KNN => Fold = 1 => Training Accuracy = 0.74625 => Validation Accuracy = 0.755\n",
            "Model => Gaussian Naive Bayes => Fold = 1 => Training Accuracy = 0.7125 => Validation Accuracy = 0.725\n",
            "\n",
            "--------------------------------------------------------------------------------------------\n",
            "\n",
            "Model => KNN => Fold = 2 => Training Accuracy = 0.74875 => Validation Accuracy = 0.75\n",
            "Model => Gaussian Naive Bayes => Fold = 2 => Training Accuracy = 0.70875 => Validation Accuracy = 0.71\n",
            "\n",
            "--------------------------------------------------------------------------------------------\n",
            "\n",
            "Model => KNN => Fold = 3 => Training Accuracy = 0.7675 => Validation Accuracy = 0.755\n",
            "Model => Gaussian Naive Bayes => Fold = 3 => Training Accuracy = 0.71875 => Validation Accuracy = 0.7\n",
            "\n",
            "--------------------------------------------------------------------------------------------\n",
            "\n",
            "Model => KNN => Fold = 4 => Training Accuracy = 0.77 => Validation Accuracy = 0.725\n",
            "Model => Gaussian Naive Bayes => Fold = 4 => Training Accuracy = 0.7175 => Validation Accuracy = 0.715\n",
            "\n",
            "--------------------------------------------------------------------------------------------\n",
            "\n"
          ],
          "name": "stdout"
        }
      ]
    },
    {
      "cell_type": "code",
      "metadata": {
        "id": "gSl2_nTfS0Zk",
        "outputId": "98c1aeed-dca5-4e18-e1ec-f84bbb7298c9",
        "colab": {
          "base_uri": "https://localhost:8080/"
        }
      },
      "source": [
        "print(accuracies)"
      ],
      "execution_count": 41,
      "outputs": [
        {
          "output_type": "stream",
          "text": [
            "[[0.75, 0.705], [0.755, 0.725], [0.75, 0.71], [0.755, 0.7], [0.725, 0.715]]\n"
          ],
          "name": "stdout"
        }
      ]
    },
    {
      "cell_type": "code",
      "metadata": {
        "id": "B8GSL6zYpskS"
      },
      "source": [
        "x_axis_labels=['Predicted Normal','Predicted Diabetic']\n",
        "y_axis_labels=['True Normal','True Diabetic']"
      ],
      "execution_count": 42,
      "outputs": []
    },
    {
      "cell_type": "code",
      "metadata": {
        "id": "hEbX7d97iJcF",
        "outputId": "2ed11939-f113-49e0-e40e-29af939c821f",
        "colab": {
          "base_uri": "https://localhost:8080/",
          "height": 282
        }
      },
      "source": [
        "import seaborn as sns\n",
        "\n",
        "# Heatmap of confusion matrix of 5th fold of KNN\n",
        "\n",
        "sns.heatmap(confusion_matrices[4][0],xticklabels=x_axis_labels,yticklabels=y_axis_labels,annot=True)\n"
      ],
      "execution_count": 43,
      "outputs": [
        {
          "output_type": "execute_result",
          "data": {
            "text/plain": [
              "<matplotlib.axes._subplots.AxesSubplot at 0x7f0a5ef8a940>"
            ]
          },
          "metadata": {
            "tags": []
          },
          "execution_count": 43
        },
        {
          "output_type": "display_data",
          "data": {
            "image/png": "[encoded data removed]",
            "text/plain": [
              "<Figure size 432x288 with 2 Axes>"
            ]
          },
          "metadata": {
            "tags": [],
            "needs_background": "light"
          }
        }
      ]
    },
    {
      "cell_type": "code",
      "metadata": {
        "id": "vCfY6PdTpHqD",
        "outputId": "a68f7649-f72e-403f-89bc-e9a6e01dbaa5",
        "colab": {
          "base_uri": "https://localhost:8080/",
          "height": 282
        }
      },
      "source": [
        "# Heatmap of confusion matrix of 5th fold of Naive Bayes\n",
        "\n",
        "sns.heatmap(confusion_matrices[4][1],xticklabels=x_axis_labels,yticklabels=y_axis_labels,annot=True)\n"
      ],
      "execution_count": 44,
      "outputs": [
        {
          "output_type": "execute_result",
          "data": {
            "text/plain": [
              "<matplotlib.axes._subplots.AxesSubplot at 0x7f0a5ef8a898>"
            ]
          },
          "metadata": {
            "tags": []
          },
          "execution_count": 44
        },
        {
          "output_type": "display_data",
          "data": {
            "image/png": "[encoded data removed]",
            "text/plain": [
              "<Figure size 432x288 with 2 Axes>"
            ]
          },
          "metadata": {
            "tags": [],
            "needs_background": "light"
          }
        }
      ]
    },
    {
      "cell_type": "code",
      "metadata": {
        "id": "ytvH_HqxpPth",
        "outputId": "5e82dc61-4909-4420-8689-32580cb5ecff",
        "colab": {
          "base_uri": "https://localhost:8080/"
        }
      },
      "source": [
        "# Classification report of 5th fold of KNN\n",
        "\n",
        "print(\"KNN\")\n",
        "print(classification_reports[4][0])"
      ],
      "execution_count": 45,
      "outputs": [
        {
          "output_type": "stream",
          "text": [
            "KNN\n",
            "              precision    recall  f1-score   support\n",
            "\n",
            "           0       0.75      0.67      0.71       100\n",
            "           1       0.70      0.78      0.74       100\n",
            "\n",
            "    accuracy                           0.73       200\n",
            "   macro avg       0.73      0.73      0.72       200\n",
            "weighted avg       0.73      0.72      0.72       200\n",
            "\n"
          ],
          "name": "stdout"
        }
      ]
    },
    {
      "cell_type": "code",
      "metadata": {
        "id": "65A9lhqa0Phh",
        "outputId": "77ec6f33-a82f-4101-a8cf-dd328ce7106b",
        "colab": {
          "base_uri": "https://localhost:8080/"
        }
      },
      "source": [
        "# Classification report of 5th fold of Naive Bayes\n",
        "\n",
        "print(\"Naive Bayes\")\n",
        "print(classification_reports[4][1])"
      ],
      "execution_count": 46,
      "outputs": [
        {
          "output_type": "stream",
          "text": [
            "Naive Bayes\n",
            "              precision    recall  f1-score   support\n",
            "\n",
            "           0       0.70      0.76      0.73       100\n",
            "           1       0.74      0.67      0.70       100\n",
            "\n",
            "    accuracy                           0.71       200\n",
            "   macro avg       0.72      0.72      0.71       200\n",
            "weighted avg       0.72      0.71      0.71       200\n",
            "\n"
          ],
          "name": "stdout"
        }
      ]
    },
    {
      "cell_type": "code",
      "metadata": {
        "id": "M9sNijiy0XSE"
      },
      "source": [
        ""
      ],
      "execution_count": 46,
      "outputs": []
    },
    {
      "cell_type": "code",
      "metadata": {
        "id": "kfxO4CZ3VdBD"
      },
      "source": [
        ""
      ],
      "execution_count": 46,
      "outputs": []
    },
    {
      "cell_type": "code",
      "metadata": {
        "id": "l7RKPMuGVdXm"
      },
      "source": [
        ""
      ],
      "execution_count": 46,
      "outputs": []
    },
    {
      "cell_type": "code",
      "metadata": {
        "id": "RQyXadBRVLFa",
        "outputId": "66366d4f-373f-4a55-93e5-339781c47c51",
        "colab": {
          "base_uri": "https://localhost:8080/"
        }
      },
      "source": [
        "accuracies,confusion_matrices,classification_reports=[],[],[]\n",
        "for f in range(5):\n",
        "  accuracy,confusion_matrix,classification_report=run(f,df_optimal_NB,models=models,print_details=True)\n",
        "  accuracies.append(accuracy)\n",
        "  confusion_matrices.append(confusion_matrix)\n",
        "  classification_reports.append(classification_report)"
      ],
      "execution_count": 47,
      "outputs": [
        {
          "output_type": "stream",
          "text": [
            "Model => KNN => Fold = 0 => Training Accuracy = 0.77125 => Validation Accuracy = 0.7\n",
            "Model => Gaussian Naive Bayes => Fold = 0 => Training Accuracy = 0.74 => Validation Accuracy = 0.715\n",
            "\n",
            "--------------------------------------------------------------------------------------------\n",
            "\n",
            "Model => KNN => Fold = 1 => Training Accuracy = 0.77 => Validation Accuracy = 0.74\n",
            "Model => Gaussian Naive Bayes => Fold = 1 => Training Accuracy = 0.7325 => Validation Accuracy = 0.75\n",
            "\n",
            "--------------------------------------------------------------------------------------------\n",
            "\n",
            "Model => KNN => Fold = 2 => Training Accuracy = 0.7875 => Validation Accuracy = 0.73\n",
            "Model => Gaussian Naive Bayes => Fold = 2 => Training Accuracy = 0.7275 => Validation Accuracy = 0.76\n",
            "\n",
            "--------------------------------------------------------------------------------------------\n",
            "\n",
            "Model => KNN => Fold = 3 => Training Accuracy = 0.7725 => Validation Accuracy = 0.705\n",
            "Model => Gaussian Naive Bayes => Fold = 3 => Training Accuracy = 0.74625 => Validation Accuracy = 0.635\n",
            "\n",
            "--------------------------------------------------------------------------------------------\n",
            "\n",
            "Model => KNN => Fold = 4 => Training Accuracy = 0.78 => Validation Accuracy = 0.745\n",
            "Model => Gaussian Naive Bayes => Fold = 4 => Training Accuracy = 0.725 => Validation Accuracy = 0.76\n",
            "\n",
            "--------------------------------------------------------------------------------------------\n",
            "\n"
          ],
          "name": "stdout"
        }
      ]
    },
    {
      "cell_type": "code",
      "metadata": {
        "id": "2qmWe_B8VOXN",
        "outputId": "95489dcf-524f-4bac-8bb4-d1a41a89634d",
        "colab": {
          "base_uri": "https://localhost:8080/",
          "height": 282
        }
      },
      "source": [
        "import seaborn as sns\n",
        "\n",
        "# Heatmap of confusion matrix of 5th fold of KNN\n",
        "\n",
        "sns.heatmap(confusion_matrices[4][0],xticklabels=x_axis_labels,yticklabels=y_axis_labels,annot=True)"
      ],
      "execution_count": 48,
      "outputs": [
        {
          "output_type": "execute_result",
          "data": {
            "text/plain": [
              "<matplotlib.axes._subplots.AxesSubplot at 0x7f0a5f0dfd30>"
            ]
          },
          "metadata": {
            "tags": []
          },
          "execution_count": 48
        },
        {
          "output_type": "display_data",
          "data": {
            "image/png": "[encoded data removed]",
            "text/plain": [
              "<Figure size 432x288 with 2 Axes>"
            ]
          },
          "metadata": {
            "tags": [],
            "needs_background": "light"
          }
        }
      ]
    },
    {
      "cell_type": "code",
      "metadata": {
        "id": "c0jORNv_VaeU",
        "outputId": "ddb69226-8450-4a53-c93d-ff14c770607f",
        "colab": {
          "base_uri": "https://localhost:8080/",
          "height": 282
        }
      },
      "source": [
        "# Heatmap of confusion matrix of 5th fold of Naive Bayes\n",
        "\n",
        "sns.heatmap(confusion_matrices[4][1],xticklabels=x_axis_labels,yticklabels=y_axis_labels,annot=True)"
      ],
      "execution_count": 49,
      "outputs": [
        {
          "output_type": "execute_result",
          "data": {
            "text/plain": [
              "<matplotlib.axes._subplots.AxesSubplot at 0x7f0a5ee168d0>"
            ]
          },
          "metadata": {
            "tags": []
          },
          "execution_count": 49
        },
        {
          "output_type": "display_data",
          "data": {
            "image/png": "[encoded data removed]",
            "text/plain": [
              "<Figure size 432x288 with 2 Axes>"
            ]
          },
          "metadata": {
            "tags": [],
            "needs_background": "light"
          }
        }
      ]
    },
    {
      "cell_type": "code",
      "metadata": {
        "id": "MpgS9tWIVjtp",
        "outputId": "c25568f6-0909-433e-d698-18d962abf55f",
        "colab": {
          "base_uri": "https://localhost:8080/"
        }
      },
      "source": [
        "# Classification report of 5th fold of KNN\n",
        "\n",
        "print(\"KNN\")\n",
        "print(classification_reports[4][0])"
      ],
      "execution_count": 50,
      "outputs": [
        {
          "output_type": "stream",
          "text": [
            "KNN\n",
            "              precision    recall  f1-score   support\n",
            "\n",
            "           0       0.76      0.71      0.74       100\n",
            "           1       0.73      0.78      0.75       100\n",
            "\n",
            "    accuracy                           0.74       200\n",
            "   macro avg       0.75      0.74      0.74       200\n",
            "weighted avg       0.75      0.74      0.74       200\n",
            "\n"
          ],
          "name": "stdout"
        }
      ]
    },
    {
      "cell_type": "code",
      "metadata": {
        "id": "z61Ff2lJVoRY",
        "outputId": "566d442c-1e7d-4015-d01c-ebaf83c9947a",
        "colab": {
          "base_uri": "https://localhost:8080/"
        }
      },
      "source": [
        "# Classification report of 5th fold of Naive Bayes\n",
        "\n",
        "print(\"Naive Bayes\")\n",
        "print(classification_reports[4][1])"
      ],
      "execution_count": 51,
      "outputs": [
        {
          "output_type": "stream",
          "text": [
            "Naive Bayes\n",
            "              precision    recall  f1-score   support\n",
            "\n",
            "           0       0.76      0.76      0.76       100\n",
            "           1       0.76      0.76      0.76       100\n",
            "\n",
            "    accuracy                           0.76       200\n",
            "   macro avg       0.76      0.76      0.76       200\n",
            "weighted avg       0.76      0.76      0.76       200\n",
            "\n"
          ],
          "name": "stdout"
        }
      ]
    },
    {
      "cell_type": "code",
      "metadata": {
        "id": "yjyaZjiBVvr-"
      },
      "source": [
        ""
      ],
      "execution_count": null,
      "outputs": []
    }
  ]
}