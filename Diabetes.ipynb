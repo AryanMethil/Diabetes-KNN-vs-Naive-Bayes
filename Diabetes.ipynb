{
  "nbformat": 4,
  "nbformat_minor": 0,
  "metadata": {
    "colab": {
      "name": "Diabetes.ipynb",
      "provenance": [],
      "collapsed_sections": [],
      "mount_file_id": "1TzBcoBe2LPj7nTDS7qnCXOJCKcOezvlL",
      "authorship_tag": "ABX9TyOi0jdah+5JywzUWEMMRQZS",
      "include_colab_link": true
    },
    "kernelspec": {
      "name": "python3",
      "display_name": "Python 3"
    }
  },
  "cells": [
    {
      "cell_type": "markdown",
      "metadata": {
        "id": "view-in-github",
        "colab_type": "text"
      },
      "source": [
        "<a href=\"https://colab.research.google.com/github/AryanMethil/Diabetes-KNN-vs-Naive-Bayes/blob/main/Diabetes.ipynb\" target=\"_parent\"><img src=\"https://colab.research.google.com/assets/colab-badge.svg\" alt=\"Open In Colab\"/></a>"
      ]
    },
    {
      "cell_type": "code",
      "metadata": {
        "id": "RFSdVykcbSGf",
        "outputId": "db7cd30e-bb1c-42f6-fd50-c5bf0cfaa66b",
        "colab": {
          "base_uri": "https://localhost:8080/",
          "height": 204
        }
      },
      "source": [
        "import pandas as pd\n",
        "df=pd.read_csv('/content/drive/My Drive/diabetes.csv')\n",
        "df.head()"
      ],
      "execution_count": 1,
      "outputs": [
        {
          "output_type": "execute_result",
          "data": {
            "text/html": [
              "<div>\n",
              "<style scoped>\n",
              "    .dataframe tbody tr th:only-of-type {\n",
              "        vertical-align: middle;\n",
              "    }\n",
              "\n",
              "    .dataframe tbody tr th {\n",
              "        vertical-align: top;\n",
              "    }\n",
              "\n",
              "    .dataframe thead th {\n",
              "        text-align: right;\n",
              "    }\n",
              "</style>\n",
              "<table border=\"1\" class=\"dataframe\">\n",
              "  <thead>\n",
              "    <tr style=\"text-align: right;\">\n",
              "      <th></th>\n",
              "      <th>Pregnancies</th>\n",
              "      <th>Glucose</th>\n",
              "      <th>BloodPressure</th>\n",
              "      <th>SkinThickness</th>\n",
              "      <th>Insulin</th>\n",
              "      <th>BMI</th>\n",
              "      <th>DiabetesPedigreeFunction</th>\n",
              "      <th>Age</th>\n",
              "      <th>Outcome</th>\n",
              "    </tr>\n",
              "  </thead>\n",
              "  <tbody>\n",
              "    <tr>\n",
              "      <th>0</th>\n",
              "      <td>6</td>\n",
              "      <td>148</td>\n",
              "      <td>72</td>\n",
              "      <td>35</td>\n",
              "      <td>0</td>\n",
              "      <td>33.6</td>\n",
              "      <td>0.627</td>\n",
              "      <td>50</td>\n",
              "      <td>1</td>\n",
              "    </tr>\n",
              "    <tr>\n",
              "      <th>1</th>\n",
              "      <td>1</td>\n",
              "      <td>85</td>\n",
              "      <td>66</td>\n",
              "      <td>29</td>\n",
              "      <td>0</td>\n",
              "      <td>26.6</td>\n",
              "      <td>0.351</td>\n",
              "      <td>31</td>\n",
              "      <td>0</td>\n",
              "    </tr>\n",
              "    <tr>\n",
              "      <th>2</th>\n",
              "      <td>8</td>\n",
              "      <td>183</td>\n",
              "      <td>64</td>\n",
              "      <td>0</td>\n",
              "      <td>0</td>\n",
              "      <td>23.3</td>\n",
              "      <td>0.672</td>\n",
              "      <td>32</td>\n",
              "      <td>1</td>\n",
              "    </tr>\n",
              "    <tr>\n",
              "      <th>3</th>\n",
              "      <td>1</td>\n",
              "      <td>89</td>\n",
              "      <td>66</td>\n",
              "      <td>23</td>\n",
              "      <td>94</td>\n",
              "      <td>28.1</td>\n",
              "      <td>0.167</td>\n",
              "      <td>21</td>\n",
              "      <td>0</td>\n",
              "    </tr>\n",
              "    <tr>\n",
              "      <th>4</th>\n",
              "      <td>0</td>\n",
              "      <td>137</td>\n",
              "      <td>40</td>\n",
              "      <td>35</td>\n",
              "      <td>168</td>\n",
              "      <td>43.1</td>\n",
              "      <td>2.288</td>\n",
              "      <td>33</td>\n",
              "      <td>1</td>\n",
              "    </tr>\n",
              "  </tbody>\n",
              "</table>\n",
              "</div>"
            ],
            "text/plain": [
              "   Pregnancies  Glucose  BloodPressure  ...  DiabetesPedigreeFunction  Age  Outcome\n",
              "0            6      148             72  ...                     0.627   50        1\n",
              "1            1       85             66  ...                     0.351   31        0\n",
              "2            8      183             64  ...                     0.672   32        1\n",
              "3            1       89             66  ...                     0.167   21        0\n",
              "4            0      137             40  ...                     2.288   33        1\n",
              "\n",
              "[5 rows x 9 columns]"
            ]
          },
          "metadata": {
            "tags": []
          },
          "execution_count": 1
        }
      ]
    },
    {
      "cell_type": "code",
      "metadata": {
        "id": "mxILQEAMb9LP",
        "outputId": "e1c7e158-f76f-4ca8-f8a9-304995c80689",
        "colab": {
          "base_uri": "https://localhost:8080/",
          "height": 187
        }
      },
      "source": [
        "df.isna().sum()"
      ],
      "execution_count": 2,
      "outputs": [
        {
          "output_type": "execute_result",
          "data": {
            "text/plain": [
              "Pregnancies                 0\n",
              "Glucose                     0\n",
              "BloodPressure               0\n",
              "SkinThickness               0\n",
              "Insulin                     0\n",
              "BMI                         0\n",
              "DiabetesPedigreeFunction    0\n",
              "Age                         0\n",
              "Outcome                     0\n",
              "dtype: int64"
            ]
          },
          "metadata": {
            "tags": []
          },
          "execution_count": 2
        }
      ]
    },
    {
      "cell_type": "code",
      "metadata": {
        "id": "b8HP66W-cdIa",
        "outputId": "3a0ef32a-a3a4-4e62-e03f-951e9f5a0541",
        "colab": {
          "base_uri": "https://localhost:8080/",
          "height": 68
        }
      },
      "source": [
        "df['Outcome'].value_counts()"
      ],
      "execution_count": 3,
      "outputs": [
        {
          "output_type": "execute_result",
          "data": {
            "text/plain": [
              "0    500\n",
              "1    268\n",
              "Name: Outcome, dtype: int64"
            ]
          },
          "metadata": {
            "tags": []
          },
          "execution_count": 3
        }
      ]
    },
    {
      "cell_type": "code",
      "metadata": {
        "id": "J7_wsfa5eTeI",
        "outputId": "51492ba0-e298-47dd-b27a-9d02327aa6d6",
        "colab": {
          "base_uri": "https://localhost:8080/",
          "height": 204
        }
      },
      "source": [
        "df['kfolds']=-1\n",
        "df=df.sample(frac=1,random_state=42).reset_index(drop=True)\n",
        "df.head()"
      ],
      "execution_count": 7,
      "outputs": [
        {
          "output_type": "execute_result",
          "data": {
            "text/html": [
              "<div>\n",
              "<style scoped>\n",
              "    .dataframe tbody tr th:only-of-type {\n",
              "        vertical-align: middle;\n",
              "    }\n",
              "\n",
              "    .dataframe tbody tr th {\n",
              "        vertical-align: top;\n",
              "    }\n",
              "\n",
              "    .dataframe thead th {\n",
              "        text-align: right;\n",
              "    }\n",
              "</style>\n",
              "<table border=\"1\" class=\"dataframe\">\n",
              "  <thead>\n",
              "    <tr style=\"text-align: right;\">\n",
              "      <th></th>\n",
              "      <th>Pregnancies</th>\n",
              "      <th>Glucose</th>\n",
              "      <th>BloodPressure</th>\n",
              "      <th>SkinThickness</th>\n",
              "      <th>Insulin</th>\n",
              "      <th>BMI</th>\n",
              "      <th>DiabetesPedigreeFunction</th>\n",
              "      <th>Age</th>\n",
              "      <th>Outcome</th>\n",
              "      <th>kfolds</th>\n",
              "    </tr>\n",
              "  </thead>\n",
              "  <tbody>\n",
              "    <tr>\n",
              "      <th>0</th>\n",
              "      <td>2</td>\n",
              "      <td>94</td>\n",
              "      <td>76</td>\n",
              "      <td>18</td>\n",
              "      <td>66</td>\n",
              "      <td>31.6</td>\n",
              "      <td>0.649</td>\n",
              "      <td>23</td>\n",
              "      <td>0</td>\n",
              "      <td>-1</td>\n",
              "    </tr>\n",
              "    <tr>\n",
              "      <th>1</th>\n",
              "      <td>0</td>\n",
              "      <td>117</td>\n",
              "      <td>80</td>\n",
              "      <td>31</td>\n",
              "      <td>53</td>\n",
              "      <td>45.2</td>\n",
              "      <td>0.089</td>\n",
              "      <td>24</td>\n",
              "      <td>0</td>\n",
              "      <td>-1</td>\n",
              "    </tr>\n",
              "    <tr>\n",
              "      <th>2</th>\n",
              "      <td>7</td>\n",
              "      <td>178</td>\n",
              "      <td>84</td>\n",
              "      <td>0</td>\n",
              "      <td>0</td>\n",
              "      <td>39.9</td>\n",
              "      <td>0.331</td>\n",
              "      <td>41</td>\n",
              "      <td>1</td>\n",
              "      <td>-1</td>\n",
              "    </tr>\n",
              "    <tr>\n",
              "      <th>3</th>\n",
              "      <td>6</td>\n",
              "      <td>165</td>\n",
              "      <td>68</td>\n",
              "      <td>26</td>\n",
              "      <td>168</td>\n",
              "      <td>33.6</td>\n",
              "      <td>0.631</td>\n",
              "      <td>49</td>\n",
              "      <td>0</td>\n",
              "      <td>-1</td>\n",
              "    </tr>\n",
              "    <tr>\n",
              "      <th>4</th>\n",
              "      <td>1</td>\n",
              "      <td>111</td>\n",
              "      <td>86</td>\n",
              "      <td>19</td>\n",
              "      <td>0</td>\n",
              "      <td>30.1</td>\n",
              "      <td>0.143</td>\n",
              "      <td>23</td>\n",
              "      <td>0</td>\n",
              "      <td>-1</td>\n",
              "    </tr>\n",
              "  </tbody>\n",
              "</table>\n",
              "</div>"
            ],
            "text/plain": [
              "   Pregnancies  Glucose  BloodPressure  ...  Age  Outcome  kfolds\n",
              "0            2       94             76  ...   23        0      -1\n",
              "1            0      117             80  ...   24        0      -1\n",
              "2            7      178             84  ...   41        1      -1\n",
              "3            6      165             68  ...   49        0      -1\n",
              "4            1      111             86  ...   23        0      -1\n",
              "\n",
              "[5 rows x 10 columns]"
            ]
          },
          "metadata": {
            "tags": []
          },
          "execution_count": 7
        }
      ]
    },
    {
      "cell_type": "code",
      "metadata": {
        "id": "-omxWSUteeDN",
        "outputId": "376c4995-d20d-4a87-bac5-edd373242ffd",
        "colab": {
          "base_uri": "https://localhost:8080/",
          "height": 204
        }
      },
      "source": [
        "from sklearn import model_selection\n",
        "strat_kf=model_selection.StratifiedKFold(n_splits=5)\n",
        "for fold,(trn_,val_) in enumerate(strat_kf.split(X=df,y=df['Outcome'])):\n",
        "  df.loc[val_,'kfolds']=fold\n",
        "df.head()"
      ],
      "execution_count": 8,
      "outputs": [
        {
          "output_type": "execute_result",
          "data": {
            "text/html": [
              "<div>\n",
              "<style scoped>\n",
              "    .dataframe tbody tr th:only-of-type {\n",
              "        vertical-align: middle;\n",
              "    }\n",
              "\n",
              "    .dataframe tbody tr th {\n",
              "        vertical-align: top;\n",
              "    }\n",
              "\n",
              "    .dataframe thead th {\n",
              "        text-align: right;\n",
              "    }\n",
              "</style>\n",
              "<table border=\"1\" class=\"dataframe\">\n",
              "  <thead>\n",
              "    <tr style=\"text-align: right;\">\n",
              "      <th></th>\n",
              "      <th>Pregnancies</th>\n",
              "      <th>Glucose</th>\n",
              "      <th>BloodPressure</th>\n",
              "      <th>SkinThickness</th>\n",
              "      <th>Insulin</th>\n",
              "      <th>BMI</th>\n",
              "      <th>DiabetesPedigreeFunction</th>\n",
              "      <th>Age</th>\n",
              "      <th>Outcome</th>\n",
              "      <th>kfolds</th>\n",
              "    </tr>\n",
              "  </thead>\n",
              "  <tbody>\n",
              "    <tr>\n",
              "      <th>0</th>\n",
              "      <td>2</td>\n",
              "      <td>94</td>\n",
              "      <td>76</td>\n",
              "      <td>18</td>\n",
              "      <td>66</td>\n",
              "      <td>31.6</td>\n",
              "      <td>0.649</td>\n",
              "      <td>23</td>\n",
              "      <td>0</td>\n",
              "      <td>0</td>\n",
              "    </tr>\n",
              "    <tr>\n",
              "      <th>1</th>\n",
              "      <td>0</td>\n",
              "      <td>117</td>\n",
              "      <td>80</td>\n",
              "      <td>31</td>\n",
              "      <td>53</td>\n",
              "      <td>45.2</td>\n",
              "      <td>0.089</td>\n",
              "      <td>24</td>\n",
              "      <td>0</td>\n",
              "      <td>0</td>\n",
              "    </tr>\n",
              "    <tr>\n",
              "      <th>2</th>\n",
              "      <td>7</td>\n",
              "      <td>178</td>\n",
              "      <td>84</td>\n",
              "      <td>0</td>\n",
              "      <td>0</td>\n",
              "      <td>39.9</td>\n",
              "      <td>0.331</td>\n",
              "      <td>41</td>\n",
              "      <td>1</td>\n",
              "      <td>0</td>\n",
              "    </tr>\n",
              "    <tr>\n",
              "      <th>3</th>\n",
              "      <td>6</td>\n",
              "      <td>165</td>\n",
              "      <td>68</td>\n",
              "      <td>26</td>\n",
              "      <td>168</td>\n",
              "      <td>33.6</td>\n",
              "      <td>0.631</td>\n",
              "      <td>49</td>\n",
              "      <td>0</td>\n",
              "      <td>0</td>\n",
              "    </tr>\n",
              "    <tr>\n",
              "      <th>4</th>\n",
              "      <td>1</td>\n",
              "      <td>111</td>\n",
              "      <td>86</td>\n",
              "      <td>19</td>\n",
              "      <td>0</td>\n",
              "      <td>30.1</td>\n",
              "      <td>0.143</td>\n",
              "      <td>23</td>\n",
              "      <td>0</td>\n",
              "      <td>0</td>\n",
              "    </tr>\n",
              "  </tbody>\n",
              "</table>\n",
              "</div>"
            ],
            "text/plain": [
              "   Pregnancies  Glucose  BloodPressure  ...  Age  Outcome  kfolds\n",
              "0            2       94             76  ...   23        0       0\n",
              "1            0      117             80  ...   24        0       0\n",
              "2            7      178             84  ...   41        1       0\n",
              "3            6      165             68  ...   49        0       0\n",
              "4            1      111             86  ...   23        0       0\n",
              "\n",
              "[5 rows x 10 columns]"
            ]
          },
          "metadata": {
            "tags": []
          },
          "execution_count": 8
        }
      ]
    },
    {
      "cell_type": "code",
      "metadata": {
        "id": "OCU8LQ6UcrjO",
        "outputId": "79f50f86-80fd-4541-a177-b57aeef895b6",
        "colab": {
          "base_uri": "https://localhost:8080/",
          "height": 204
        }
      },
      "source": [
        "from sklearn.preprocessing import StandardScaler\n",
        "scaler=StandardScaler()\n",
        "df_2=pd.DataFrame(scaler.fit_transform(df),index=df.index,columns=df.columns)\n",
        "df_2['Outcome']=df['Outcome']\n",
        "df_2['kfolds']=df['kfolds']\n",
        "df_2.head()"
      ],
      "execution_count": 9,
      "outputs": [
        {
          "output_type": "execute_result",
          "data": {
            "text/html": [
              "<div>\n",
              "<style scoped>\n",
              "    .dataframe tbody tr th:only-of-type {\n",
              "        vertical-align: middle;\n",
              "    }\n",
              "\n",
              "    .dataframe tbody tr th {\n",
              "        vertical-align: top;\n",
              "    }\n",
              "\n",
              "    .dataframe thead th {\n",
              "        text-align: right;\n",
              "    }\n",
              "</style>\n",
              "<table border=\"1\" class=\"dataframe\">\n",
              "  <thead>\n",
              "    <tr style=\"text-align: right;\">\n",
              "      <th></th>\n",
              "      <th>Pregnancies</th>\n",
              "      <th>Glucose</th>\n",
              "      <th>BloodPressure</th>\n",
              "      <th>SkinThickness</th>\n",
              "      <th>Insulin</th>\n",
              "      <th>BMI</th>\n",
              "      <th>DiabetesPedigreeFunction</th>\n",
              "      <th>Age</th>\n",
              "      <th>Outcome</th>\n",
              "      <th>kfolds</th>\n",
              "    </tr>\n",
              "  </thead>\n",
              "  <tbody>\n",
              "    <tr>\n",
              "      <th>0</th>\n",
              "      <td>-0.547919</td>\n",
              "      <td>-0.841722</td>\n",
              "      <td>0.356432</td>\n",
              "      <td>-0.159107</td>\n",
              "      <td>-0.119819</td>\n",
              "      <td>-0.049826</td>\n",
              "      <td>0.534935</td>\n",
              "      <td>-0.871374</td>\n",
              "      <td>0</td>\n",
              "      <td>0</td>\n",
              "    </tr>\n",
              "    <tr>\n",
              "      <th>1</th>\n",
              "      <td>-1.141852</td>\n",
              "      <td>-0.121888</td>\n",
              "      <td>0.563223</td>\n",
              "      <td>0.656358</td>\n",
              "      <td>-0.232697</td>\n",
              "      <td>1.676276</td>\n",
              "      <td>-1.156332</td>\n",
              "      <td>-0.786286</td>\n",
              "      <td>0</td>\n",
              "      <td>0</td>\n",
              "    </tr>\n",
              "    <tr>\n",
              "      <th>2</th>\n",
              "      <td>0.936914</td>\n",
              "      <td>1.787238</td>\n",
              "      <td>0.770014</td>\n",
              "      <td>-1.288212</td>\n",
              "      <td>-0.692891</td>\n",
              "      <td>1.003604</td>\n",
              "      <td>-0.425463</td>\n",
              "      <td>0.660206</td>\n",
              "      <td>1</td>\n",
              "      <td>0</td>\n",
              "    </tr>\n",
              "    <tr>\n",
              "      <th>3</th>\n",
              "      <td>0.639947</td>\n",
              "      <td>1.380375</td>\n",
              "      <td>-0.057150</td>\n",
              "      <td>0.342717</td>\n",
              "      <td>0.765836</td>\n",
              "      <td>0.204013</td>\n",
              "      <td>0.480572</td>\n",
              "      <td>1.340908</td>\n",
              "      <td>0</td>\n",
              "      <td>0</td>\n",
              "    </tr>\n",
              "    <tr>\n",
              "      <th>4</th>\n",
              "      <td>-0.844885</td>\n",
              "      <td>-0.309671</td>\n",
              "      <td>0.873409</td>\n",
              "      <td>-0.096379</td>\n",
              "      <td>-0.692891</td>\n",
              "      <td>-0.240205</td>\n",
              "      <td>-0.993245</td>\n",
              "      <td>-0.871374</td>\n",
              "      <td>0</td>\n",
              "      <td>0</td>\n",
              "    </tr>\n",
              "  </tbody>\n",
              "</table>\n",
              "</div>"
            ],
            "text/plain": [
              "   Pregnancies   Glucose  BloodPressure  ...       Age  Outcome  kfolds\n",
              "0    -0.547919 -0.841722       0.356432  ... -0.871374        0       0\n",
              "1    -1.141852 -0.121888       0.563223  ... -0.786286        0       0\n",
              "2     0.936914  1.787238       0.770014  ...  0.660206        1       0\n",
              "3     0.639947  1.380375      -0.057150  ...  1.340908        0       0\n",
              "4    -0.844885 -0.309671       0.873409  ... -0.871374        0       0\n",
              "\n",
              "[5 rows x 10 columns]"
            ]
          },
          "metadata": {
            "tags": []
          },
          "execution_count": 9
        }
      ]
    },
    {
      "cell_type": "code",
      "metadata": {
        "id": "mT8xztpN8mfs"
      },
      "source": [
        "# df_2=df\n",
        "# df_2.head()"
      ],
      "execution_count": 10,
      "outputs": []
    },
    {
      "cell_type": "code",
      "metadata": {
        "id": "2DAWBK9DiPsJ"
      },
      "source": [
        "from sklearn import metrics\n",
        "import matplotlib.pyplot as plt"
      ],
      "execution_count": 11,
      "outputs": []
    },
    {
      "cell_type": "code",
      "metadata": {
        "id": "r6POiJTJdXup"
      },
      "source": [
        "def run(fold,df,models):\n",
        "\n",
        "  df_train=df[df['kfolds']!=fold].reset_index(drop=True)\n",
        "  df_valid=df[df['kfolds']==fold].reset_index(drop=True)\n",
        "\n",
        "  x_train=df_train.drop('Outcome',axis=1).values\n",
        "  y_train=df_train.Outcome.values\n",
        "\n",
        "  x_valid=df_valid.drop('Outcome',axis=1).values\n",
        "  y_valid=df_valid.Outcome.values\n",
        "\n",
        "  accuracy=[]\n",
        "  confusion_matrices=[]\n",
        "  for model_name,model_constructor in list(models.items()):\n",
        "    clf=model_constructor\n",
        "    clf.fit(x_train,y_train)\n",
        "\n",
        "    preds_train=clf.predict(x_train)\n",
        "    preds_valid=clf.predict(x_valid)\n",
        "\n",
        "    acc_train=metrics.accuracy_score(y_train,preds_train)\n",
        "    acc_valid=metrics.accuracy_score(y_valid,preds_valid)\n",
        "    conf_matrix=metrics.confusion_matrix(y_valid,preds_valid)\n",
        "\n",
        "    accuracy.append(acc_valid)\n",
        "    confusion_matrices.append(conf_matrix)\n",
        "\n",
        "    print(f'Model => {model_name} => Fold = {fold} => Training Accuracy = {acc_train} => Validation Accuracy = {acc_valid}')\n",
        "\n",
        "  print('\\n--------------------------------------------------------------------------------------------\\n')\n",
        "  return accuracy,confusion_matrices"
      ],
      "execution_count": 16,
      "outputs": []
    },
    {
      "cell_type": "code",
      "metadata": {
        "id": "UbD6mu1Xhxre"
      },
      "source": [
        "from sklearn.neighbors import KNeighborsClassifier\n",
        "from sklearn.naive_bayes import GaussianNB"
      ],
      "execution_count": 17,
      "outputs": []
    },
    {
      "cell_type": "code",
      "metadata": {
        "id": "qjzRXvUXiwWO"
      },
      "source": [
        "models={f'KNN_{i}':KNeighborsClassifier(n_neighbors=i) for i in range(2,31)}"
      ],
      "execution_count": 18,
      "outputs": []
    },
    {
      "cell_type": "code",
      "metadata": {
        "id": "YAUfVSKCj0Qi",
        "outputId": "f5a2c453-6225-4b29-a66a-74c5fcb53941",
        "colab": {
          "base_uri": "https://localhost:8080/",
          "height": 561
        }
      },
      "source": [
        "accuracy,confusion_matrices=run(4,df_2,models=models)"
      ],
      "execution_count": 19,
      "outputs": [
        {
          "output_type": "stream",
          "text": [
            "Model => KNN_2 => Fold = 4 => Training Accuracy = 0.8357723577235773 => Validation Accuracy = 0.7124183006535948\n",
            "Model => KNN_3 => Fold = 4 => Training Accuracy = 0.8341463414634146 => Validation Accuracy = 0.7450980392156863\n",
            "Model => KNN_4 => Fold = 4 => Training Accuracy = 0.7967479674796748 => Validation Accuracy = 0.7124183006535948\n",
            "Model => KNN_5 => Fold = 4 => Training Accuracy = 0.8130081300813008 => Validation Accuracy = 0.738562091503268\n",
            "Model => KNN_6 => Fold = 4 => Training Accuracy = 0.775609756097561 => Validation Accuracy = 0.7254901960784313\n",
            "Model => KNN_7 => Fold = 4 => Training Accuracy = 0.7788617886178861 => Validation Accuracy = 0.7254901960784313\n",
            "Model => KNN_8 => Fold = 4 => Training Accuracy = 0.7739837398373983 => Validation Accuracy = 0.738562091503268\n",
            "Model => KNN_9 => Fold = 4 => Training Accuracy = 0.7853658536585366 => Validation Accuracy = 0.7320261437908496\n",
            "Model => KNN_10 => Fold = 4 => Training Accuracy = 0.7772357723577236 => Validation Accuracy = 0.7254901960784313\n",
            "Model => KNN_11 => Fold = 4 => Training Accuracy = 0.7837398373983739 => Validation Accuracy = 0.7647058823529411\n",
            "Model => KNN_12 => Fold = 4 => Training Accuracy = 0.775609756097561 => Validation Accuracy = 0.7516339869281046\n",
            "Model => KNN_13 => Fold = 4 => Training Accuracy = 0.7707317073170732 => Validation Accuracy = 0.7712418300653595\n",
            "Model => KNN_14 => Fold = 4 => Training Accuracy = 0.7723577235772358 => Validation Accuracy = 0.7843137254901961\n",
            "Model => KNN_15 => Fold = 4 => Training Accuracy = 0.767479674796748 => Validation Accuracy = 0.7647058823529411\n",
            "Model => KNN_16 => Fold = 4 => Training Accuracy = 0.7609756097560976 => Validation Accuracy = 0.7450980392156863\n",
            "Model => KNN_17 => Fold = 4 => Training Accuracy = 0.7577235772357723 => Validation Accuracy = 0.7581699346405228\n",
            "Model => KNN_18 => Fold = 4 => Training Accuracy = 0.7463414634146341 => Validation Accuracy = 0.7581699346405228\n",
            "Model => KNN_19 => Fold = 4 => Training Accuracy = 0.7528455284552845 => Validation Accuracy = 0.7516339869281046\n",
            "Model => KNN_20 => Fold = 4 => Training Accuracy = 0.751219512195122 => Validation Accuracy = 0.7516339869281046\n",
            "Model => KNN_21 => Fold = 4 => Training Accuracy = 0.7544715447154472 => Validation Accuracy = 0.7581699346405228\n",
            "Model => KNN_22 => Fold = 4 => Training Accuracy = 0.751219512195122 => Validation Accuracy = 0.7647058823529411\n",
            "Model => KNN_23 => Fold = 4 => Training Accuracy = 0.7479674796747967 => Validation Accuracy = 0.7581699346405228\n",
            "Model => KNN_24 => Fold = 4 => Training Accuracy = 0.7398373983739838 => Validation Accuracy = 0.7712418300653595\n",
            "Model => KNN_25 => Fold = 4 => Training Accuracy = 0.7414634146341463 => Validation Accuracy = 0.7516339869281046\n",
            "Model => KNN_26 => Fold = 4 => Training Accuracy = 0.7382113821138211 => Validation Accuracy = 0.7581699346405228\n",
            "Model => KNN_27 => Fold = 4 => Training Accuracy = 0.7398373983739838 => Validation Accuracy = 0.7516339869281046\n",
            "Model => KNN_28 => Fold = 4 => Training Accuracy = 0.7300813008130081 => Validation Accuracy = 0.7516339869281046\n",
            "Model => KNN_29 => Fold = 4 => Training Accuracy = 0.7414634146341463 => Validation Accuracy = 0.7450980392156863\n",
            "Model => KNN_30 => Fold = 4 => Training Accuracy = 0.7495934959349594 => Validation Accuracy = 0.738562091503268\n",
            "\n",
            "--------------------------------------------------------------------------------------------\n",
            "\n"
          ],
          "name": "stdout"
        }
      ]
    },
    {
      "cell_type": "code",
      "metadata": {
        "id": "3E1KH5v6kKjg",
        "outputId": "daa0de77-370e-4195-e9d5-3a35971d47a6",
        "colab": {
          "base_uri": "https://localhost:8080/",
          "height": 295
        }
      },
      "source": [
        "x=[i for i in range(2,31)]\n",
        "y=accuracy\n",
        "plt.plot(x,y)\n",
        "plt.xlabel('Number of Nearest Neighbors')\n",
        "plt.ylabel('Accuracy Score')\n",
        "plt.title(\"Optimal n_neighbors value\")\n",
        "plt.show()"
      ],
      "execution_count": 20,
      "outputs": [
        {
          "output_type": "display_data",
          "data": {
            "image/png": "[encoded data removed]",
            "text/plain": [
              "<Figure size 432x288 with 1 Axes>"
            ]
          },
          "metadata": {
            "tags": [],
            "needs_background": "light"
          }
        }
      ]
    },
    {
      "cell_type": "code",
      "metadata": {
        "id": "_Wj--fc_gyJs"
      },
      "source": [
        "models={\n",
        "        'KNN': KNeighborsClassifier(n_neighbors=14),\n",
        "        'Naive Bayes': GaussianNB()\n",
        "        }"
      ],
      "execution_count": 21,
      "outputs": []
    },
    {
      "cell_type": "code",
      "metadata": {
        "id": "HIyTXMrfhn8n",
        "outputId": "82ee66e6-a21c-46d0-f3f5-7b9dd294d264",
        "colab": {
          "base_uri": "https://localhost:8080/",
          "height": 442
        }
      },
      "source": [
        "accuracies,confusion_matrices=[],[]\n",
        "for f in range(5):\n",
        "  accuracy,confusion_matrix=run(f,df_2,models=models)\n",
        "  accuracies.append(accuracy)\n",
        "  confusion_matrices.append(confusion_matrix)"
      ],
      "execution_count": 22,
      "outputs": [
        {
          "output_type": "stream",
          "text": [
            "Model => KNN => Fold = 0 => Training Accuracy = 0.7801302931596091 => Validation Accuracy = 0.7012987012987013\n",
            "Model => Naive Bayes => Fold = 0 => Training Accuracy = 0.752442996742671 => Validation Accuracy = 0.7467532467532467\n",
            "\n",
            "--------------------------------------------------------------------------------------------\n",
            "\n",
            "Model => KNN => Fold = 1 => Training Accuracy = 0.7687296416938111 => Validation Accuracy = 0.6883116883116883\n",
            "Model => Naive Bayes => Fold = 1 => Training Accuracy = 0.7801302931596091 => Validation Accuracy = 0.7467532467532467\n",
            "\n",
            "--------------------------------------------------------------------------------------------\n",
            "\n",
            "Model => KNN => Fold = 2 => Training Accuracy = 0.7654723127035831 => Validation Accuracy = 0.7467532467532467\n",
            "Model => Naive Bayes => Fold = 2 => Training Accuracy = 0.7654723127035831 => Validation Accuracy = 0.7597402597402597\n",
            "\n",
            "--------------------------------------------------------------------------------------------\n",
            "\n",
            "Model => KNN => Fold = 3 => Training Accuracy = 0.7772357723577236 => Validation Accuracy = 0.7647058823529411\n",
            "Model => Naive Bayes => Fold = 3 => Training Accuracy = 0.7691056910569106 => Validation Accuracy = 0.738562091503268\n",
            "\n",
            "--------------------------------------------------------------------------------------------\n",
            "\n",
            "Model => KNN => Fold = 4 => Training Accuracy = 0.7723577235772358 => Validation Accuracy = 0.7843137254901961\n",
            "Model => Naive Bayes => Fold = 4 => Training Accuracy = 0.751219512195122 => Validation Accuracy = 0.8104575163398693\n",
            "\n",
            "--------------------------------------------------------------------------------------------\n",
            "\n"
          ],
          "name": "stdout"
        }
      ]
    },
    {
      "cell_type": "code",
      "metadata": {
        "id": "B8GSL6zYpskS"
      },
      "source": [
        "x_axis_labels=['Predicted Normal','Predicted Diabetic']\n",
        "y_axis_labels=['True Normal','True Diabetic']"
      ],
      "execution_count": 23,
      "outputs": []
    },
    {
      "cell_type": "code",
      "metadata": {
        "id": "hEbX7d97iJcF",
        "outputId": "306e20ab-c962-4af4-95ee-b9a3c49117c4",
        "colab": {
          "base_uri": "https://localhost:8080/",
          "height": 282
        }
      },
      "source": [
        "import seaborn as sns\n",
        "sns.heatmap(confusion_matrices[4][0],xticklabels=x_axis_labels,yticklabels=y_axis_labels,annot=True)\n"
      ],
      "execution_count": 24,
      "outputs": [
        {
          "output_type": "execute_result",
          "data": {
            "text/plain": [
              "<matplotlib.axes._subplots.AxesSubplot at 0x7fc5f5c9f9b0>"
            ]
          },
          "metadata": {
            "tags": []
          },
          "execution_count": 24
        },
        {
          "output_type": "display_data",
          "data": {
            "image/png": "[encoded data removed]",
            "text/plain": [
              "<Figure size 432x288 with 2 Axes>"
            ]
          },
          "metadata": {
            "tags": [],
            "needs_background": "light"
          }
        }
      ]
    },
    {
      "cell_type": "code",
      "metadata": {
        "id": "vCfY6PdTpHqD",
        "outputId": "bb56a40a-737d-4e86-8ace-beccc2ead85e",
        "colab": {
          "base_uri": "https://localhost:8080/",
          "height": 284
        }
      },
      "source": [
        "sns.heatmap(confusion_matrices[4][1],xticklabels=x_axis_labels,yticklabels=y_axis_labels,annot=True)\n"
      ],
      "execution_count": 25,
      "outputs": [
        {
          "output_type": "execute_result",
          "data": {
            "text/plain": [
              "<matplotlib.axes._subplots.AxesSubplot at 0x7fc5f5469080>"
            ]
          },
          "metadata": {
            "tags": []
          },
          "execution_count": 25
        },
        {
          "output_type": "display_data",
          "data": {
            "image/png": "[encoded data removed]",
            "text/plain": [
              "<Figure size 432x288 with 2 Axes>"
            ]
          },
          "metadata": {
            "tags": [],
            "needs_background": "light"
          }
        }
      ]
    },
    {
      "cell_type": "code",
      "metadata": {
        "id": "ytvH_HqxpPth"
      },
      "source": [
        ""
      ],
      "execution_count": null,
      "outputs": []
    }
  ]
}